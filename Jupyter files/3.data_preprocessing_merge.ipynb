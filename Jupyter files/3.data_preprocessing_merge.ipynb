{
 "cells": [
  {
   "cell_type": "code",
   "execution_count": null,
   "id": "40cb4f45",
   "metadata": {},
   "outputs": [],
   "source": [
    "import numpy as np\n",
    "import pandas as pd"
   ]
  },
  {
   "cell_type": "code",
   "execution_count": null,
   "id": "9fe3b611",
   "metadata": {},
   "outputs": [],
   "source": [
    "pd.set_option('display.max_rows', None)\n",
    "pd.set_option('display.max_columns', None)"
   ]
  },
  {
   "cell_type": "code",
   "execution_count": null,
   "id": "a0248649",
   "metadata": {},
   "outputs": [],
   "source": [
    "flats = pd.read_csv(\"../Dataset/flats_cleaned.csv\")\n",
    "houses = pd.read_csv(\"../Dataset/house_cleaned.csv\")"
   ]
  },
  {
   "cell_type": "code",
   "execution_count": null,
   "id": "482ebeea",
   "metadata": {},
   "outputs": [],
   "source": [
    "df = pd.concat([flats, houses], ignore_index=True)"
   ]
  },
  {
   "cell_type": "code",
   "execution_count": null,
   "id": "aa79a221",
   "metadata": {},
   "outputs": [],
   "source": [
    "df = df.sample(df.shape[0], ignore_index=True)"
   ]
  },
  {
   "cell_type": "code",
   "execution_count": null,
   "id": "8e5011e3",
   "metadata": {},
   "outputs": [],
   "source": [
    "df.head()"
   ]
  },
  {
   "cell_type": "code",
   "execution_count": null,
   "id": "f0c60fcc",
   "metadata": {},
   "outputs": [],
   "source": [
    "df.to_csv('../Dataset/gurgaon_properties.csv',index=False)"
   ]
  },
  {
   "cell_type": "code",
   "execution_count": null,
   "id": "eb6c1972",
   "metadata": {},
   "outputs": [],
   "source": [
    "df.sample(5)"
   ]
  },
  {
   "cell_type": "code",
   "execution_count": null,
   "id": "17a10e91",
   "metadata": {},
   "outputs": [],
   "source": [
    "df.shape"
   ]
  },
  {
   "cell_type": "code",
   "execution_count": null,
   "id": "2d17154a",
   "metadata": {},
   "outputs": [],
   "source": [
    "df[df.duplicated()]"
   ]
  },
  {
   "cell_type": "code",
   "execution_count": null,
   "id": "7174e3b0",
   "metadata": {},
   "outputs": [],
   "source": [
    "df.duplicated().sum()"
   ]
  },
  {
   "cell_type": "code",
   "execution_count": null,
   "id": "def370d6",
   "metadata": {},
   "outputs": [],
   "source": [
    "df.info()"
   ]
  },
  {
   "cell_type": "code",
   "execution_count": null,
   "id": "95c943ca",
   "metadata": {},
   "outputs": [],
   "source": [
    "df.isnull().sum()"
   ]
  },
  {
   "cell_type": "code",
   "execution_count": null,
   "id": "d9e3efdb",
   "metadata": {
    "scrolled": true
   },
   "outputs": [],
   "source": [
    "df.head()"
   ]
  },
  {
   "cell_type": "code",
   "execution_count": null,
   "id": "51dcc538",
   "metadata": {},
   "outputs": [],
   "source": [
    "df.insert(loc=3,column='sector',value=df['property_name'].str.split('in').str.get(1).str.replace('Gurgaon','').str.strip())"
   ]
  },
  {
   "cell_type": "code",
   "execution_count": null,
   "id": "2af67fab",
   "metadata": {},
   "outputs": [],
   "source": [
    "df.head()"
   ]
  },
  {
   "cell_type": "code",
   "execution_count": null,
   "id": "ed989862",
   "metadata": {},
   "outputs": [],
   "source": [
    "df['sector'] = df['sector'].str.lower()"
   ]
  },
  {
   "cell_type": "code",
   "execution_count": null,
   "id": "fdb70302",
   "metadata": {
    "scrolled": true
   },
   "outputs": [],
   "source": [
    "df.head()"
   ]
  },
  {
   "cell_type": "code",
   "execution_count": null,
   "id": "d6e395b8",
   "metadata": {},
   "outputs": [],
   "source": [
    "df['sector'].value_counts()"
   ]
  },
  {
   "cell_type": "code",
   "execution_count": null,
   "id": "b1cc6374",
   "metadata": {},
   "outputs": [],
   "source": [
    "df['sector'] = df['sector'].str.replace('dharam colony','sector 12')\n",
    "df['sector'] = df['sector'].str.replace('krishna colony','sector 7')\n",
    "df['sector'] = df['sector'].str.replace('suncity','sector 54')\n",
    "df['sector'] = df['sector'].str.replace('prem nagar','sector 13')\n",
    "df['sector'] = df['sector'].str.replace('mg road','sector 28')\n",
    "df['sector'] = df['sector'].str.replace('gandhi nagar','sector 28')\n",
    "df['sector'] = df['sector'].str.replace('laxmi garden','sector 11')\n",
    "df['sector'] = df['sector'].str.replace('shakti nagar','sector 11')"
   ]
  },
  {
   "cell_type": "code",
   "execution_count": null,
   "id": "455c0de0",
   "metadata": {},
   "outputs": [],
   "source": [
    "df['sector'] = df['sector'].str.replace('baldev nagar','sector 7')\n",
    "df['sector'] = df['sector'].str.replace('shivpuri','sector 7')\n",
    "df['sector'] = df['sector'].str.replace('garhi harsaru','sector 17')\n",
    "df['sector'] = df['sector'].str.replace('imt manesar','manesar')\n",
    "df['sector'] = df['sector'].str.replace('adarsh nagar','sector 12')\n",
    "df['sector'] = df['sector'].str.replace('shivaji nagar','sector 11')\n",
    "df['sector'] = df['sector'].str.replace('bhim nagar','sector 6')\n",
    "df['sector'] = df['sector'].str.replace('madanpuri','sector 7')"
   ]
  },
  {
   "cell_type": "code",
   "execution_count": null,
   "id": "32b58e8b",
   "metadata": {},
   "outputs": [],
   "source": [
    "df['sector'] = df['sector'].str.replace('saraswati vihar','sector 28')\n",
    "df['sector'] = df['sector'].str.replace('arjun nagar','sector 8')\n",
    "df['sector'] = df['sector'].str.replace('ravi nagar','sector 9')\n",
    "df['sector'] = df['sector'].str.replace('vishnu garden','sector 105')\n",
    "df['sector'] = df['sector'].str.replace('bhondsi','sector 11')\n",
    "df['sector'] = df['sector'].str.replace('surya vihar','sector 21')\n",
    "df['sector'] = df['sector'].str.replace('devilal colony','sector 9')\n",
    "df['sector'] = df['sector'].str.replace('valley view estate','gwal pahari')"
   ]
  },
  {
   "cell_type": "code",
   "execution_count": null,
   "id": "5a98e558",
   "metadata": {},
   "outputs": [],
   "source": [
    "df['sector'] = df['sector'].str.replace('mehrauli  road','sector 14')\n",
    "df['sector'] = df['sector'].str.replace('jyoti park','sector 7')\n",
    "df['sector'] = df['sector'].str.replace('ansal plaza','sector 23')\n",
    "df['sector'] = df['sector'].str.replace('dayanand colony','sector 6')\n",
    "df['sector'] = df['sector'].str.replace('sushant lok phase 2','sector 55')\n",
    "df['sector'] = df['sector'].str.replace('chakkarpur','sector 28')\n",
    "df['sector'] = df['sector'].str.replace('greenwood city','sector 45')\n",
    "df['sector'] = df['sector'].str.replace('subhash nagar','sector 12')"
   ]
  },
  {
   "cell_type": "code",
   "execution_count": null,
   "id": "034198a0",
   "metadata": {},
   "outputs": [],
   "source": [
    "df['sector'] = df['sector'].str.replace('sohna road road','sohna road')\n",
    "df['sector'] = df['sector'].str.replace('malibu town','sector 47')\n",
    "df['sector'] = df['sector'].str.replace('surat nagar 1','sector 104')\n",
    "df['sector'] = df['sector'].str.replace('new colony','sector 7')\n",
    "df['sector'] = df['sector'].str.replace('mianwali colony','sector 12')\n",
    "df['sector'] = df['sector'].str.replace('jacobpura','sector 12')\n",
    "df['sector'] = df['sector'].str.replace('rajiv nagar','sector 13')\n",
    "df['sector'] = df['sector'].str.replace('ashok vihar','sector 3')"
   ]
  },
  {
   "cell_type": "code",
   "execution_count": null,
   "id": "a0202a60",
   "metadata": {},
   "outputs": [],
   "source": [
    "df['sector'] = df['sector'].str.replace('dlf phase 1','sector 26')\n",
    "df['sector'] = df['sector'].str.replace('nirvana country','sector 50')\n",
    "df['sector'] = df['sector'].str.replace('palam vihar','sector 2')\n",
    "df['sector'] = df['sector'].str.replace('dlf phase 2','sector 25')\n",
    "df['sector'] = df['sector'].str.replace('sushant lok phase 1','sector 43')\n",
    "df['sector'] = df['sector'].str.replace('laxman vihar','sector 4')\n",
    "df['sector'] = df['sector'].str.replace('dlf phase 4','sector 28')\n",
    "df['sector'] = df['sector'].str.replace('dlf phase 3','sector 24')"
   ]
  },
  {
   "cell_type": "code",
   "execution_count": null,
   "id": "78ed02be",
   "metadata": {},
   "outputs": [],
   "source": [
    "df['sector'] = df['sector'].str.replace('sushant lok phase 3','sector 57')\n",
    "df['sector'] = df['sector'].str.replace('dlf phase 5','sector 43')\n",
    "df['sector'] = df['sector'].str.replace('rajendra park','sector 105')\n",
    "df['sector'] = df['sector'].str.replace('uppals southend','sector 49')\n",
    "df['sector'] = df['sector'].str.replace('sohna','sohna road')\n",
    "df['sector'] = df['sector'].str.replace('ashok vihar phase 3 extension','sector 5')\n",
    "df['sector'] = df['sector'].str.replace('south city 1','sector 41')\n",
    "df['sector'] = df['sector'].str.replace('ashok vihar phase 2','sector 5')"
   ]
  },
  {
   "cell_type": "code",
   "execution_count": null,
   "id": "b1b79cb6",
   "metadata": {},
   "outputs": [],
   "source": [
    "a = df['sector'].value_counts()[df['sector'].value_counts() >= 3]\n",
    "df = df[df['sector'].isin(a.index)]"
   ]
  },
  {
   "cell_type": "code",
   "execution_count": null,
   "id": "5ce4f611",
   "metadata": {},
   "outputs": [],
   "source": [
    "df['sector'].value_counts()"
   ]
  },
  {
   "cell_type": "code",
   "execution_count": null,
   "id": "1dce706e",
   "metadata": {},
   "outputs": [],
   "source": [
    "df['sector'] = df['sector'].str.replace('sector 95a','sector 95')\n",
    "df['sector'] = df['sector'].str.replace('sector 23a','sector 23')\n",
    "df['sector'] = df['sector'].str.replace('sector 12a','sector 12')\n",
    "df['sector'] = df['sector'].str.replace('sector 3a','sector 3')\n",
    "df['sector'] = df['sector'].str.replace('sector 110 a','sector 110')\n",
    "df['sector'] = df['sector'].str.replace('patel nagar','sector 15')\n",
    "df['sector'] = df['sector'].str.replace('a block sector 43','sector 43')\n",
    "df['sector'] = df['sector'].str.replace('maruti kunj','sector 12')\n",
    "df['sector'] = df['sector'].str.replace('b block sector 43','sector 43')"
   ]
  },
  {
   "cell_type": "code",
   "execution_count": null,
   "id": "038f1f34",
   "metadata": {},
   "outputs": [],
   "source": [
    "df['sector'] = df['sector'].str.replace('sector-33 sohna road','sector 33')\n",
    "df['sector'] = df['sector'].str.replace('sector 1 manesar','manesar')\n",
    "df['sector'] = df['sector'].str.replace('sector 4 phase 2','sector 4')\n",
    "df['sector'] = df['sector'].str.replace('sector 1a manesar','manesar')\n",
    "df['sector'] = df['sector'].str.replace('c block sector 43','sector 43')\n",
    "df['sector'] = df['sector'].str.replace('sector 89 a','sector 89')\n",
    "df['sector'] = df['sector'].str.replace('sector 2 extension','sector 2')\n",
    "df['sector'] = df['sector'].str.replace('sector 36 sohna road','sector 36')"
   ]
  },
  {
   "cell_type": "code",
   "execution_count": null,
   "id": "cbfa0ca5",
   "metadata": {},
   "outputs": [],
   "source": [
    "df[df['sector'] == 'new']"
   ]
  },
  {
   "cell_type": "code",
   "execution_count": null,
   "id": "90c59e8f",
   "metadata": {},
   "outputs": [],
   "source": [
    "df.loc[955,'sector'] = 'sector 37'\n",
    "df.loc[2800,'sector'] = 'sector 92'\n",
    "df.loc[2838,'sector'] = 'sector 90'\n",
    "df.loc[2857,'sector'] = 'sector 76'"
   ]
  },
  {
   "cell_type": "code",
   "execution_count": null,
   "id": "0ef6b223",
   "metadata": {},
   "outputs": [],
   "source": [
    "df[df['sector'] == 'new sector 2']"
   ]
  },
  {
   "cell_type": "code",
   "execution_count": null,
   "id": "d3eb0054",
   "metadata": {},
   "outputs": [],
   "source": [
    "df.loc[[311,1072,1486,3046,3875],'sector'] = 'sector 110'"
   ]
  },
  {
   "cell_type": "code",
   "execution_count": null,
   "id": "7b3a0f8d",
   "metadata": {},
   "outputs": [],
   "source": [
    "df.shape"
   ]
  },
  {
   "cell_type": "code",
   "execution_count": null,
   "id": "3d6c90f3",
   "metadata": {},
   "outputs": [],
   "source": [
    "df.duplicated().sum()"
   ]
  },
  {
   "cell_type": "code",
   "execution_count": null,
   "id": "d4c7b803",
   "metadata": {},
   "outputs": [],
   "source": [
    "df.head()"
   ]
  },
  {
   "cell_type": "code",
   "execution_count": null,
   "id": "28bfa18d",
   "metadata": {},
   "outputs": [],
   "source": [
    "# features to drop -> property_name, address, description, rating\n",
    "df.drop(columns=['property_name', 'address'],inplace=True)"
   ]
  },
  {
   "cell_type": "code",
   "execution_count": null,
   "id": "c58d1da1",
   "metadata": {},
   "outputs": [],
   "source": [
    "df.sample(5)"
   ]
  },
  {
   "cell_type": "code",
   "execution_count": null,
   "id": "4428abbd",
   "metadata": {},
   "outputs": [],
   "source": [
    "# feature engineering required -> areaWithType, additionalRoom, facing, agePossession, furnishDetails, features"
   ]
  },
  {
   "cell_type": "code",
   "execution_count": null,
   "id": "9bb8628e",
   "metadata": {},
   "outputs": [],
   "source": [
    "df.duplicated().sum()"
   ]
  },
  {
   "cell_type": "code",
   "execution_count": null,
   "id": "a67502f5",
   "metadata": {},
   "outputs": [],
   "source": [
    "df.to_csv('../Dataset/gurgaon_properties_cleaned_v1.csv',index=False)"
   ]
  },
  {
   "cell_type": "code",
   "execution_count": null,
   "id": "ba566d82",
   "metadata": {},
   "outputs": [],
   "source": []
  }
 ],
 "metadata": {
  "kernelspec": {
   "display_name": "Python 3 (ipykernel)",
   "language": "python",
   "name": "python3"
  },
  "language_info": {
   "codemirror_mode": {
    "name": "ipython",
    "version": 3
   },
   "file_extension": ".py",
   "mimetype": "text/x-python",
   "name": "python",
   "nbconvert_exporter": "python",
   "pygments_lexer": "ipython3",
   "version": "3.12.3"
  }
 },
 "nbformat": 4,
 "nbformat_minor": 5
}
