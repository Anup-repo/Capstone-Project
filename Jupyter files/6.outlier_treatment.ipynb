{
 "cells": [
  {
   "cell_type": "code",
   "execution_count": null,
   "id": "4a59d564-4dfa-4c57-89aa-a4fbef920a9f",
   "metadata": {},
   "outputs": [],
   "source": [
    "import pandas as pd\n",
    "import numpy as np\n",
    "import matplotlib.pyplot as plt\n",
    "import seaborn as sns"
   ]
  },
  {
   "cell_type": "code",
   "execution_count": null,
   "id": "d277c819-5726-4dc7-bba9-e6ef3e3fa929",
   "metadata": {},
   "outputs": [],
   "source": [
    "pd.set_option('display.max_columns', None)\n",
    "sns.set_palette(\"husl\")"
   ]
  },
  {
   "cell_type": "code",
   "execution_count": null,
   "id": "853bb423-5f88-404c-a966-442b6901e584",
   "metadata": {},
   "outputs": [],
   "source": [
    "df = pd.read_csv(\"../Dataset/gurgaon_properties_cleaned_v2.csv\").drop_duplicates()"
   ]
  },
  {
   "cell_type": "code",
   "execution_count": null,
   "id": "1dbe1be2-761b-4a67-9b5e-986676d973f2",
   "metadata": {},
   "outputs": [],
   "source": [
    "df.head()"
   ]
  },
  {
   "cell_type": "markdown",
   "id": "fa8a10ac-4d77-4a52-bbc2-9d292f358de3",
   "metadata": {},
   "source": [
    "## There are 2 ways to handle outliers(numerical col).\n",
    "1. Normally distributed columns. (mean +- 3*std)\n",
    "2. It is not normally distributed. (box plot)"
   ]
  },
  {
   "cell_type": "code",
   "execution_count": null,
   "id": "4140d2af-693f-4756-8a89-99ca8d91efb5",
   "metadata": {},
   "outputs": [],
   "source": [
    "df.shape"
   ]
  },
  {
   "cell_type": "markdown",
   "id": "99ced551-1a1d-49bf-b8d2-553c954c26bf",
   "metadata": {},
   "source": [
    "## Price"
   ]
  },
  {
   "cell_type": "code",
   "execution_count": null,
   "id": "2cd30c0e-0f29-44de-bb5d-f33c6baa4312",
   "metadata": {},
   "outputs": [],
   "source": [
    "# outliers on the basis of price column\n",
    "sns.distplot(df['price'])"
   ]
  },
  {
   "cell_type": "code",
   "execution_count": null,
   "id": "0f41d539-769a-4fd2-9c9f-0513d094db77",
   "metadata": {},
   "outputs": [],
   "source": [
    "sns.boxplot(x=df['price'])"
   ]
  },
  {
   "cell_type": "code",
   "execution_count": null,
   "id": "8c9a1fc7-bfd2-41df-a84f-948046d4074c",
   "metadata": {},
   "outputs": [],
   "source": [
    "Q1 = df['price'].quantile(0.25)\n",
    "Q3 = df['price'].quantile(0.75)\n",
    "IQR = Q3 - Q1\n",
    "\n",
    "# Define bounds for outliers\n",
    "lower_bound = Q1 - 1.5 * IQR\n",
    "upper_bound = Q3 + 1.5 * IQR\n",
    "\n",
    "# Identify outliers\n",
    "outliers = df[(df['price'] < lower_bound) | (df['price'] > upper_bound)]\n",
    "\n",
    "# Displaying the number of outliers and some statistics\n",
    "num_outliers = outliers.shape[0]\n",
    "outliers_price_stats = outliers['price'].describe()\n",
    "\n",
    "num_outliers, outliers_price_stats"
   ]
  },
  {
   "cell_type": "code",
   "execution_count": null,
   "id": "6d0f099c-191c-4ab8-a527-fc4ea6f5e057",
   "metadata": {},
   "outputs": [],
   "source": [
    "outliers.sort_values('price',ascending=False).head(20)"
   ]
  },
  {
   "cell_type": "markdown",
   "id": "8c1f9bbb-175b-420b-ae67-543e61509b2d",
   "metadata": {},
   "source": [
    "## on the basis of price col we can say that there are some genuine outliers but there are some data erros as well"
   ]
  },
  {
   "cell_type": "markdown",
   "id": "30add077-60ad-4853-a446-4fdf6f4f00da",
   "metadata": {},
   "source": [
    "## price_per_sq"
   ]
  },
  {
   "cell_type": "code",
   "execution_count": null,
   "id": "7412a864-23c6-4ae4-81b6-33f75ba0b259",
   "metadata": {},
   "outputs": [],
   "source": [
    "sns.distplot(df['price_per_sqft'])"
   ]
  },
  {
   "cell_type": "code",
   "execution_count": null,
   "id": "be0adb81-e38c-462e-ac4e-38583fc1e8d2",
   "metadata": {},
   "outputs": [],
   "source": [
    "sns.boxplot(x=df['price_per_sqft'])"
   ]
  },
  {
   "cell_type": "code",
   "execution_count": null,
   "id": "67706ced-0155-460e-9c28-369f72047839",
   "metadata": {},
   "outputs": [],
   "source": [
    "Q1 = df['price_per_sqft'].quantile(0.25)\n",
    "Q3 = df['price_per_sqft'].quantile(0.75)\n",
    "IQR = Q3 - Q1\n",
    "\n",
    "# Define bounds for outliers\n",
    "lower_bound = Q1 - 1.5 * IQR\n",
    "upper_bound = Q3 + 1.5 * IQR\n",
    "\n",
    "# Identify outliers\n",
    "outliers_sqft = df[(df['price_per_sqft'] < lower_bound) | (df['price_per_sqft'] > upper_bound)]\n",
    "\n",
    "# Displaying the number of outliers and some statistics\n",
    "num_outliers = outliers_sqft.shape[0]\n",
    "outliers_sqft_stats = outliers_sqft['price_per_sqft'].describe()\n",
    "\n",
    "num_outliers, outliers_sqft_stats"
   ]
  },
  {
   "cell_type": "code",
   "execution_count": null,
   "id": "b073d371-845a-4416-b426-d3bc111fb1ff",
   "metadata": {},
   "outputs": [],
   "source": [
    "outliers_sqft.head()"
   ]
  },
  {
   "cell_type": "markdown",
   "id": "fed615d1-ecf1-4a30-8f6e-95f878068c5b",
   "metadata": {},
   "source": [
    "## there is some calculation error the area < 1000 is not in sq.ft. it is in sq.yard "
   ]
  },
  {
   "cell_type": "code",
   "execution_count": null,
   "id": "eedaddf2-60b6-4292-911d-0c21a38c787f",
   "metadata": {},
   "outputs": [],
   "source": [
    "outliers_sqft['area'] = outliers_sqft['area'].apply(lambda x:x*9 if x<1000 else x)"
   ]
  },
  {
   "cell_type": "code",
   "execution_count": null,
   "id": "a180835e-3965-4b68-b73c-324de77678a8",
   "metadata": {},
   "outputs": [],
   "source": [
    "outliers_sqft['price_per_sqft'] = round((outliers_sqft['price']*10000000)/outliers_sqft['area'])"
   ]
  },
  {
   "cell_type": "code",
   "execution_count": null,
   "id": "ea2175fe-7d19-4e82-9940-7bb7be099fcf",
   "metadata": {},
   "outputs": [],
   "source": [
    "outliers_sqft['price_per_sqft'].describe()"
   ]
  },
  {
   "cell_type": "code",
   "execution_count": null,
   "id": "cd140f76-d73b-48d8-b560-0c6f0a90330d",
   "metadata": {},
   "outputs": [],
   "source": [
    "df.update(outliers_sqft)"
   ]
  },
  {
   "cell_type": "code",
   "execution_count": null,
   "id": "a0514b89-8eba-4ef4-aa12-4fd8d79ef428",
   "metadata": {},
   "outputs": [],
   "source": [
    "sns.distplot(df['price_per_sqft'])"
   ]
  },
  {
   "cell_type": "code",
   "execution_count": null,
   "id": "012d1def-c75a-49c9-8781-c54fbc263f31",
   "metadata": {},
   "outputs": [],
   "source": [
    "sns.boxplot(x=df['price_per_sqft'])"
   ]
  },
  {
   "cell_type": "code",
   "execution_count": null,
   "id": "8e902f1c-44fc-463f-b81f-5e6abe4351b1",
   "metadata": {},
   "outputs": [],
   "source": [
    "df[df['price_per_sqft']>50000]"
   ]
  },
  {
   "cell_type": "markdown",
   "id": "a66f0b81-d84e-49f8-9b69-cf17950ebde2",
   "metadata": {},
   "source": [
    "## droping all these rows, since it is too small"
   ]
  },
  {
   "cell_type": "code",
   "execution_count": null,
   "id": "693f5f4f-583b-467b-b82e-9e46466bafd9",
   "metadata": {},
   "outputs": [],
   "source": [
    "df = df[df['price_per_sqft'] <= 50000]"
   ]
  },
  {
   "cell_type": "code",
   "execution_count": null,
   "id": "7c3d8f2c-1ca1-41bd-80ea-f4def12feab7",
   "metadata": {},
   "outputs": [],
   "source": [
    "sns.boxplot(x=df['price_per_sqft'])"
   ]
  },
  {
   "cell_type": "markdown",
   "id": "643f5e5a-0c16-4a3c-94fc-7ff9a865eb84",
   "metadata": {},
   "source": [
    "## area"
   ]
  },
  {
   "cell_type": "code",
   "execution_count": null,
   "id": "2867610b-bab4-47b1-8287-c603b9bae907",
   "metadata": {},
   "outputs": [],
   "source": [
    "sns.distplot(df['area'])"
   ]
  },
  {
   "cell_type": "code",
   "execution_count": null,
   "id": "1e8195ea-eecb-4420-ac20-322300383318",
   "metadata": {},
   "outputs": [],
   "source": [
    "sns.boxplot(x=df['area'])"
   ]
  },
  {
   "cell_type": "code",
   "execution_count": null,
   "id": "020af896",
   "metadata": {},
   "outputs": [],
   "source": [
    "df['area'].describe()"
   ]
  },
  {
   "cell_type": "code",
   "execution_count": null,
   "id": "06614bc4-082e-4e5a-8278-456f3b68addc",
   "metadata": {},
   "outputs": [],
   "source": [
    "Q1 = df['area'].quantile(0.25)\n",
    "Q3 = df['area'].quantile(0.75)\n",
    "IQR = Q3 - Q1\n",
    "\n",
    "# Define bounds for outliers\n",
    "lower_bound = Q1 - 1.5 * IQR\n",
    "upper_bound = Q3 + 1.5 * IQR\n",
    "\n",
    "# Identify outliers\n",
    "outliers_area = df[(df['area'] < lower_bound) | (df['area'] > upper_bound)]\n",
    "\n",
    "# Displaying the number of outliers and some statistics\n",
    "num_outliers = outliers_area.shape[0]\n",
    "outliers_area_stats = outliers_sqft['area'].describe()\n",
    "\n",
    "num_outliers, outliers_area_stats"
   ]
  },
  {
   "cell_type": "code",
   "execution_count": null,
   "id": "c88172b8-5756-4660-9b2a-d3ea9eaba399",
   "metadata": {},
   "outputs": [],
   "source": [
    "df[df['area'] > 100000]"
   ]
  },
  {
   "cell_type": "code",
   "execution_count": null,
   "id": "08c96e19-e2ab-4f29-a315-bdb9928eef2d",
   "metadata": {},
   "outputs": [],
   "source": [
    "df = df[df['area'] < 100000]"
   ]
  },
  {
   "cell_type": "code",
   "execution_count": null,
   "id": "da7140ab-c6c2-408f-b6d3-a8e4b7e80314",
   "metadata": {},
   "outputs": [],
   "source": [
    "sns.distplot(df['area'])"
   ]
  },
  {
   "cell_type": "code",
   "execution_count": null,
   "id": "2f21d510-1728-49c4-bc43-24f65aa36949",
   "metadata": {},
   "outputs": [],
   "source": [
    "df[df['area'] > 10000].sort_values('area',ascending=False)"
   ]
  },
  {
   "cell_type": "code",
   "execution_count": null,
   "id": "611c0850-2347-4c90-866d-6a4c39ef82dc",
   "metadata": {},
   "outputs": [],
   "source": [
    "df.drop(index=[818, 1796, 1123, 2, 2356, 115, 3649, 2503, 1471], inplace=True)"
   ]
  },
  {
   "cell_type": "code",
   "execution_count": null,
   "id": "c1cd77f9-7005-470a-9a58-8f883984e188",
   "metadata": {},
   "outputs": [],
   "source": [
    "df.loc[48,'area'] = 115*9\n",
    "df.loc[300,'area'] = 7250\n",
    "df.loc[2666,'area'] = 5800\n",
    "df.loc[1358,'area'] = 2660\n",
    "df.loc[3195,'area'] = 2850\n",
    "df.loc[2131,'area'] = 1812\n",
    "df.loc[3088,'area'] = 2160\n",
    "df.loc[3444,'area'] = 1175"
   ]
  },
  {
   "cell_type": "code",
   "execution_count": null,
   "id": "b88469f7-7335-415b-b5aa-7948e7d2a45b",
   "metadata": {},
   "outputs": [],
   "source": [
    "sns.distplot(df['area'])"
   ]
  },
  {
   "cell_type": "code",
   "execution_count": null,
   "id": "9d39abf1-c838-4c84-a30e-c4629ead57fc",
   "metadata": {},
   "outputs": [],
   "source": [
    "sns.boxplot(x=df['area'])"
   ]
  },
  {
   "cell_type": "code",
   "execution_count": null,
   "id": "76c1dfbd-2d46-435b-9f7d-2e1371b6521f",
   "metadata": {},
   "outputs": [],
   "source": [
    "df['area'].describe()"
   ]
  },
  {
   "cell_type": "markdown",
   "id": "91f14e48-a934-46c0-9fdc-5e97986018f2",
   "metadata": {},
   "source": [
    "## bedroom"
   ]
  },
  {
   "cell_type": "code",
   "execution_count": null,
   "id": "2d167a34-c954-4de3-8708-b1d10f9c7821",
   "metadata": {},
   "outputs": [],
   "source": [
    "sns.distplot(df['bedRoom'])"
   ]
  },
  {
   "cell_type": "code",
   "execution_count": null,
   "id": "131bdcc1-e73b-46bc-8a16-04cb4496295f",
   "metadata": {},
   "outputs": [],
   "source": [
    "sns.boxplot(x=df['bedRoom'])"
   ]
  },
  {
   "cell_type": "code",
   "execution_count": null,
   "id": "a87f3028-724d-4e08-a14a-bb09332c13fd",
   "metadata": {},
   "outputs": [],
   "source": [
    "df = df[df['bedRoom'] <= 10]"
   ]
  },
  {
   "cell_type": "code",
   "execution_count": null,
   "id": "380447df-e6de-4dce-8b9e-47fb44f3056b",
   "metadata": {},
   "outputs": [],
   "source": [
    "df.shape"
   ]
  },
  {
   "cell_type": "code",
   "execution_count": null,
   "id": "09221ba2-5d6b-4ab8-946e-f6010f8d7407",
   "metadata": {},
   "outputs": [],
   "source": [
    "sns.distplot(df['bedRoom'])"
   ]
  },
  {
   "cell_type": "code",
   "execution_count": null,
   "id": "60bbc46c-7f1d-42df-91e2-58e46ccb0fc1",
   "metadata": {},
   "outputs": [],
   "source": [
    "sns.boxplot(x=df['bedRoom'])"
   ]
  },
  {
   "cell_type": "code",
   "execution_count": null,
   "id": "135cf788-cac8-4a61-892d-55aea042499b",
   "metadata": {},
   "outputs": [],
   "source": [
    "df['bedRoom'].describe()"
   ]
  },
  {
   "cell_type": "markdown",
   "id": "84c5bd08-8b5c-4a36-be08-64d88f62c952",
   "metadata": {},
   "source": [
    "## Bathroom"
   ]
  },
  {
   "cell_type": "code",
   "execution_count": null,
   "id": "3cd38ca7-68e6-4062-b4df-d4cd47daa34e",
   "metadata": {},
   "outputs": [],
   "source": [
    "sns.distplot(df['bathroom'])"
   ]
  },
  {
   "cell_type": "code",
   "execution_count": null,
   "id": "be7c6999-59f2-45e0-8833-23238e3d7d50",
   "metadata": {},
   "outputs": [],
   "source": [
    "sns.boxplot(x=df['bathroom'])"
   ]
  },
  {
   "cell_type": "code",
   "execution_count": null,
   "id": "3b3d609f-68b1-42ab-b8de-68c04a2ba1d9",
   "metadata": {},
   "outputs": [],
   "source": [
    "df[df['bathroom'] > 10].sort_values('bathroom',ascending=False)"
   ]
  },
  {
   "cell_type": "markdown",
   "id": "9ebc8a67-5fbd-4f59-b4a1-c8c3dde9c8a2",
   "metadata": {},
   "source": [
    "## super built up area\n"
   ]
  },
  {
   "cell_type": "code",
   "execution_count": null,
   "id": "68a28274-d0fa-4bf4-81b6-191c4c18f4c8",
   "metadata": {},
   "outputs": [],
   "source": [
    "sns.distplot(df['super_built_up_area'])"
   ]
  },
  {
   "cell_type": "code",
   "execution_count": null,
   "id": "211fbfa5-cb9c-4a3e-92fe-5fc08ed5421a",
   "metadata": {},
   "outputs": [],
   "source": [
    "sns.boxplot(x=df['super_built_up_area'])"
   ]
  },
  {
   "cell_type": "code",
   "execution_count": null,
   "id": "84f2e6c1-460e-412d-936b-cec231bdd957",
   "metadata": {},
   "outputs": [],
   "source": [
    "df['super_built_up_area'].describe()"
   ]
  },
  {
   "cell_type": "code",
   "execution_count": null,
   "id": "a4093a84-cd98-4622-99e2-35ccb572dfc4",
   "metadata": {},
   "outputs": [],
   "source": [
    "df[df['super_built_up_area'] > 6000]"
   ]
  },
  {
   "cell_type": "markdown",
   "id": "f4031840-32f3-496c-ac8e-5c1566baad57",
   "metadata": {},
   "source": [
    "## built up area\n"
   ]
  },
  {
   "cell_type": "code",
   "execution_count": null,
   "id": "3d356425-7d49-4c0a-9194-da8451e30139",
   "metadata": {},
   "outputs": [],
   "source": [
    "sns.distplot(df['built_up_area'])"
   ]
  },
  {
   "cell_type": "code",
   "execution_count": null,
   "id": "6d3bf842-4165-46e1-bbf1-e511ca1d0c30",
   "metadata": {},
   "outputs": [],
   "source": [
    "sns.boxplot(x=df['built_up_area'])"
   ]
  },
  {
   "cell_type": "code",
   "execution_count": null,
   "id": "a1d5f5b3-fb83-4bbc-b32e-601ca208d6ba",
   "metadata": {},
   "outputs": [],
   "source": [
    "df[df['built_up_area'] > 10000]"
   ]
  },
  {
   "cell_type": "markdown",
   "id": "7673bd96-17a1-419c-92e3-898da18a0378",
   "metadata": {},
   "source": [
    "## carpet area"
   ]
  },
  {
   "cell_type": "code",
   "execution_count": null,
   "id": "da788716-8905-4a24-9699-36dfb4b90656",
   "metadata": {},
   "outputs": [],
   "source": [
    "sns.distplot(df['carpet_area'])"
   ]
  },
  {
   "cell_type": "code",
   "execution_count": null,
   "id": "9d659adc-bc4c-4736-bdda-9a390ed2fbf1",
   "metadata": {},
   "outputs": [],
   "source": [
    "sns.boxplot(x=df['carpet_area'])"
   ]
  },
  {
   "cell_type": "code",
   "execution_count": null,
   "id": "e7ef814c-7c11-45a0-8ab5-81d4e45145cb",
   "metadata": {},
   "outputs": [],
   "source": [
    "df[df['carpet_area'] > 10000]"
   ]
  },
  {
   "cell_type": "code",
   "execution_count": null,
   "id": "1e55ca5e-e1c7-411a-9bea-cfd7365d2bf3",
   "metadata": {},
   "outputs": [],
   "source": [
    "sns.distplot(df['luxury_score'])"
   ]
  },
  {
   "cell_type": "code",
   "execution_count": null,
   "id": "faf50c70-f114-4d10-ba7c-ab7c65b48c45",
   "metadata": {},
   "outputs": [],
   "source": [
    "sns.boxplot(x = df['luxury_score'])"
   ]
  },
  {
   "cell_type": "markdown",
   "id": "0599a052-2dda-45df-a5bf-37d5388b409b",
   "metadata": {},
   "source": [
    "## modify price_per_sqft with updated area value"
   ]
  },
  {
   "cell_type": "code",
   "execution_count": null,
   "id": "a9dfb1e7-25df-4434-8fe0-4b96a1eadaed",
   "metadata": {},
   "outputs": [],
   "source": [
    "df['price_per_sqft'] = round((df['price']*10000000)/df['area'])"
   ]
  },
  {
   "cell_type": "code",
   "execution_count": null,
   "id": "c6172751-a91b-410c-aadd-7db0eca5d235",
   "metadata": {},
   "outputs": [],
   "source": [
    "sns.distplot(df['price_per_sqft'])"
   ]
  },
  {
   "cell_type": "code",
   "execution_count": null,
   "id": "4a5909ff-a21b-4245-b446-7d4d5e8e03b7",
   "metadata": {},
   "outputs": [],
   "source": [
    "sns.boxplot(x = df['price_per_sqft'])"
   ]
  },
  {
   "cell_type": "code",
   "execution_count": null,
   "id": "e04027a0-102f-4df2-915f-4c51846c707f",
   "metadata": {},
   "outputs": [],
   "source": [
    "df[df['price_per_sqft'] > 42000]"
   ]
  },
  {
   "cell_type": "code",
   "execution_count": null,
   "id": "31fbea72-da3f-4145-ae15-05c72cb446f2",
   "metadata": {},
   "outputs": [],
   "source": [
    "x = df[df['price_per_sqft'] <= 20000]\n",
    "# (x['area']/x['bedRoom']).quantile(0.02)\n",
    "(x['area']/x['bedRoom']).quantile(0.05)"
   ]
  },
  {
   "cell_type": "markdown",
   "id": "840daccb-e4e7-4c21-9780-199921ce0ea1",
   "metadata": {},
   "source": [
    "# Strange behaviour `area` (it is in lakh but should be in thousand) and `price_per_sqft`(same here) are giving wrong data and `carpet area` is at high range"
   ]
  },
  {
   "cell_type": "code",
   "execution_count": null,
   "id": "33a9280b-44a2-4782-87f1-54065957f779",
   "metadata": {},
   "outputs": [],
   "source": [
    "df[df[\"area\"]/df[\"bedRoom\"]<250].sample(5)"
   ]
  },
  {
   "cell_type": "code",
   "execution_count": null,
   "id": "a74b5074-28f5-4ebd-b5a0-63b178c7d900",
   "metadata": {},
   "outputs": [],
   "source": [
    "sns.lmplot(data=df,x=\"area\",y=\"bedRoom\")"
   ]
  },
  {
   "cell_type": "code",
   "execution_count": null,
   "id": "dadcce3d-5238-4502-af31-5f902ce37475",
   "metadata": {},
   "outputs": [],
   "source": [
    "df['area_room_ratio'] = df[\"area\"]/df[\"bedRoom\"]"
   ]
  },
  {
   "cell_type": "code",
   "execution_count": null,
   "id": "38d7e41a-8804-4a20-8992-d8139b7a319b",
   "metadata": {},
   "outputs": [],
   "source": [
    "(df[df['area_room_ratio']<250])['bedRoom'].value_counts()"
   ]
  },
  {
   "cell_type": "code",
   "execution_count": null,
   "id": "2603a678-6e7f-4926-9e60-8d37dd6ea5a4",
   "metadata": {},
   "outputs": [],
   "source": [
    "df[df['area_room_ratio']<100].shape"
   ]
  },
  {
   "cell_type": "code",
   "execution_count": null,
   "id": "e9c9fe26-4aeb-49bc-b6bf-aedec2581df6",
   "metadata": {},
   "outputs": [],
   "source": [
    "df = df[df['area_room_ratio']>100]"
   ]
  },
  {
   "cell_type": "code",
   "execution_count": null,
   "id": "788d6304-6340-4e8d-87ef-8de71c6370c6",
   "metadata": {},
   "outputs": [],
   "source": [
    "outlier_df = df[(df['area_room_ratio']<250) & (df['bedRoom'] > 3)]"
   ]
  },
  {
   "cell_type": "code",
   "execution_count": null,
   "id": "24770ff7-4b06-4c2f-8447-74690d7cf3b3",
   "metadata": {},
   "outputs": [],
   "source": [
    "outlier_df['bedRoom'] = round(outlier_df['bedRoom']/outlier_df['floorNum'])"
   ]
  },
  {
   "cell_type": "code",
   "execution_count": null,
   "id": "be1f12d9-09da-4805-8e75-5f7665a353e7",
   "metadata": {},
   "outputs": [],
   "source": [
    "df.update(outlier_df)"
   ]
  },
  {
   "cell_type": "code",
   "execution_count": null,
   "id": "866f6a8d-9eb2-483a-a626-bfb23caf6073",
   "metadata": {},
   "outputs": [],
   "source": [
    "df['area_room_ratio'] = df[\"area\"]/df[\"bedRoom\"]"
   ]
  },
  {
   "cell_type": "code",
   "execution_count": null,
   "id": "5fc5bc21-6c34-4457-9fbf-116aae3ab6c3",
   "metadata": {},
   "outputs": [],
   "source": [
    "df[(df['area_room_ratio']<250) & (df['bedRoom'] > 4)].head()"
   ]
  },
  {
   "cell_type": "code",
   "execution_count": null,
   "id": "5552c7e4-2aa9-4d9b-b9c6-31485e4eb2e0",
   "metadata": {},
   "outputs": [],
   "source": [
    "df[(df['area_room_ratio']<250) & (df['bedRoom'] > 4)].shape"
   ]
  },
  {
   "cell_type": "code",
   "execution_count": null,
   "id": "2a5fa968-8e98-47f0-926b-60aa684620cc",
   "metadata": {},
   "outputs": [],
   "source": [
    "df = df[~((df['area_room_ratio']<250) & (df['bedRoom'] > 4))]"
   ]
  },
  {
   "cell_type": "code",
   "execution_count": null,
   "id": "be5b8a2a-1086-43ae-b816-cf741b062ae2",
   "metadata": {},
   "outputs": [],
   "source": [
    "df.shape"
   ]
  },
  {
   "cell_type": "code",
   "execution_count": null,
   "id": "2999f825-32b1-464e-9a8e-a9bd0ed104db",
   "metadata": {},
   "outputs": [],
   "source": [
    "df.head()"
   ]
  },
  {
   "cell_type": "code",
   "execution_count": null,
   "id": "e15294cf-cb44-4b9f-bff1-a1a71656aeea",
   "metadata": {},
   "outputs": [],
   "source": [
    "df.to_csv(\"../Dataset/gurgaon_properties_outlier_treated.csv\")"
   ]
  },
  {
   "cell_type": "code",
   "execution_count": null,
   "id": "d6488555-80cc-477f-9160-3c3a63d9eb53",
   "metadata": {},
   "outputs": [],
   "source": []
  }
 ],
 "metadata": {
  "kernelspec": {
   "display_name": "Python 3 (ipykernel)",
   "language": "python",
   "name": "python3"
  },
  "language_info": {
   "codemirror_mode": {
    "name": "ipython",
    "version": 3
   },
   "file_extension": ".py",
   "mimetype": "text/x-python",
   "name": "python",
   "nbconvert_exporter": "python",
   "pygments_lexer": "ipython3",
   "version": "3.12.3"
  }
 },
 "nbformat": 4,
 "nbformat_minor": 5
}
