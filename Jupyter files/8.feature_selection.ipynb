{
 "cells": [
  {
   "cell_type": "code",
   "execution_count": null,
   "id": "b8ad93e8-03f7-496e-9368-5ca390af63b3",
   "metadata": {},
   "outputs": [],
   "source": [
    "import numpy as np\n",
    "import pandas as pd\n",
    "import matplotlib.pyplot as plt\n",
    "import seaborn as sns"
   ]
  },
  {
   "cell_type": "code",
   "execution_count": null,
   "id": "38492293-dfac-4b87-a32c-a73eaac45e22",
   "metadata": {},
   "outputs": [],
   "source": [
    "pd.set_option('display.max_columns', None)"
   ]
  },
  {
   "cell_type": "code",
   "execution_count": null,
   "id": "a8aba474-c313-4264-aa2e-15f8c3d109d2",
   "metadata": {},
   "outputs": [],
   "source": [
    "df = pd.read_csv(\"../Dataset/gurgaon_properties_missing_value_imputation.csv\")"
   ]
  },
  {
   "cell_type": "code",
   "execution_count": null,
   "id": "4698b5b5-40a6-4bdb-9d49-670658b11459",
   "metadata": {},
   "outputs": [],
   "source": [
    "df.shape"
   ]
  },
  {
   "cell_type": "code",
   "execution_count": null,
   "id": "09813a9d-d25b-4ed1-88d9-ec47924017cd",
   "metadata": {},
   "outputs": [],
   "source": [
    "df.head()"
   ]
  },
  {
   "cell_type": "markdown",
   "id": "23c458d0-4f8e-459a-aeb8-354db83e09ac",
   "metadata": {},
   "source": [
    "Obervation\n",
    "* price_per_sqft is highly related to price.\n",
    "* we will ask user what is your prefered sector, number of bhk. we will nost gonna ask what is your expected price_per_sqrt.\n",
    "* we will not ask what is the society you are looking if user knows he will go to any website or physically go to society and can check the price. it is also not logicla to ask.\n",
    "* therefore, dropping these 2 columns"
   ]
  },
  {
   "cell_type": "code",
   "execution_count": null,
   "id": "8546b900-6492-4d62-a4f0-d93ce6b8f5b8",
   "metadata": {},
   "outputs": [],
   "source": [
    "train_df = df.drop(columns=['society','price_per_sqft'])"
   ]
  },
  {
   "cell_type": "markdown",
   "id": "22a0cdcc-2e8a-4bea-ae4f-542f5d3bece2",
   "metadata": {},
   "source": [
    "## Luxury score"
   ]
  },
  {
   "cell_type": "markdown",
   "id": "007d28d0-6822-461a-b3d7-b067a1e7eb63",
   "metadata": {},
   "source": [
    "Approach\n",
    "* luxury score is a continuous number and we don't what what a score represent. i.e, is 45 means it is at medium level or high level. So will categorize the luxury colum into low, medium, high level"
   ]
  },
  {
   "cell_type": "code",
   "execution_count": null,
   "id": "36e45528-a8e2-491a-8e26-9f5e2294bf34",
   "metadata": {},
   "outputs": [],
   "source": [
    "sns.boxplot(x = df['luxury_score'])"
   ]
  },
  {
   "cell_type": "code",
   "execution_count": null,
   "id": "488d39c3-c946-456a-b728-b12484b0534c",
   "metadata": {},
   "outputs": [],
   "source": [
    "print(df['luxury_score'].min())\n",
    "print(df['luxury_score'].max())"
   ]
  },
  {
   "cell_type": "code",
   "execution_count": null,
   "id": "abbcc026-209f-494f-8947-0e6e47a1aec4",
   "metadata": {},
   "outputs": [],
   "source": [
    "def categorize_luxury(score):\n",
    "    if 0 <= score < 50:\n",
    "        return \"Low\"\n",
    "    elif 50 <= score < 150:\n",
    "        return \"Medium\"\n",
    "    elif 150 <= score <= 175:\n",
    "        return \"High\"\n",
    "    else:\n",
    "        return None"
   ]
  },
  {
   "cell_type": "code",
   "execution_count": null,
   "id": "d148355d-392d-4db2-a917-1e8a91f5348e",
   "metadata": {},
   "outputs": [],
   "source": [
    "train_df['luxury_category'] = train_df['luxury_score'].apply(categorize_luxury)"
   ]
  },
  {
   "cell_type": "code",
   "execution_count": null,
   "id": "107726ec-3a8b-41dd-9ffe-50e2c9ab2d1c",
   "metadata": {},
   "outputs": [],
   "source": [
    "train_df.head()"
   ]
  },
  {
   "cell_type": "code",
   "execution_count": null,
   "id": "c6242005-8c94-4d7d-9e70-16dfd17b6fc6",
   "metadata": {},
   "outputs": [],
   "source": [
    "train_df.head()"
   ]
  },
  {
   "cell_type": "markdown",
   "id": "013a2297-b5a8-4d5a-93ee-08ba14d3f2c5",
   "metadata": {},
   "source": [
    "## floor num"
   ]
  },
  {
   "cell_type": "markdown",
   "id": "de8098ff-4afd-42f2-8f15-04081287109e",
   "metadata": {},
   "source": [
    "Approach\n",
    "* Here also categorizing the floor number"
   ]
  },
  {
   "cell_type": "code",
   "execution_count": null,
   "id": "b0d270a8-6c8a-4c37-af06-44f4229e5cbc",
   "metadata": {},
   "outputs": [],
   "source": [
    "sns.boxplot(x = df['floorNum'])"
   ]
  },
  {
   "cell_type": "code",
   "execution_count": null,
   "id": "564bfdad-ff20-4d0b-a156-c09d6f5916c6",
   "metadata": {},
   "outputs": [],
   "source": [
    "print(df['floorNum'].min())\n",
    "print(df['floorNum'].max())"
   ]
  },
  {
   "cell_type": "code",
   "execution_count": null,
   "id": "79fefe3a-94b0-4acf-b263-d96b5d2c43a3",
   "metadata": {},
   "outputs": [],
   "source": [
    "def categorize_floor(floor):\n",
    "    if 0 <= floor <= 2:\n",
    "        return \"Low Floor\"\n",
    "    elif 3 <= floor <= 10:\n",
    "        return \"Mid Floor\"\n",
    "    elif 11 <= floor <= 51:\n",
    "        return \"High Floor\"\n",
    "    else:\n",
    "        return None"
   ]
  },
  {
   "cell_type": "code",
   "execution_count": null,
   "id": "fec1bed9-484f-4d83-81b7-7dc4f18bff4e",
   "metadata": {},
   "outputs": [],
   "source": [
    "train_df['floor_category'] = train_df['floorNum'].apply(categorize_floor)"
   ]
  },
  {
   "cell_type": "code",
   "execution_count": null,
   "id": "083812e0-87ee-4c16-b105-7edd8569e71c",
   "metadata": {},
   "outputs": [],
   "source": [
    "train_df.drop(columns=['floorNum','luxury_score'],inplace=True)"
   ]
  },
  {
   "cell_type": "code",
   "execution_count": null,
   "id": "be4e5fcb-a801-43c9-85c9-3eee23a94212",
   "metadata": {
    "scrolled": true
   },
   "outputs": [],
   "source": [
    "train_df.head()"
   ]
  },
  {
   "cell_type": "markdown",
   "id": "258f0833-4d86-4215-a877-c622832c17e6",
   "metadata": {},
   "source": [
    "Storing the traing data. it will be helpful to create pipeline in streamlit"
   ]
  },
  {
   "cell_type": "code",
   "execution_count": null,
   "id": "785d85c6-2065-4f34-8659-aa84298f3d55",
   "metadata": {},
   "outputs": [],
   "source": [
    "train_df.to_csv('../Dataset/gurgaon_properties_post_feature_selectionv2.csv', index=False)"
   ]
  },
  {
   "cell_type": "markdown",
   "id": "ce3c18f6-2a22-487e-8f8a-8a958b2c7136",
   "metadata": {},
   "source": [
    "* we will encode all the category into numbers because machine can't understand string.\n",
    "* we will use ordinal encoding. tree based model will work because by seeing 0 it will not consider that it is less important and 1 is more important. It will put cuts on your dataset and divide into region, but in case of liner model this will not reliable becuase linear model will assume the importance based on the number like if it is 3 then it is more importance than 1 for each column, so, you should use One hot encoding."
   ]
  },
  {
   "cell_type": "code",
   "execution_count": null,
   "id": "00648549-fa6d-494f-a67e-5c4771b2442e",
   "metadata": {},
   "outputs": [],
   "source": [
    "from sklearn.preprocessing import OrdinalEncoder\n",
    "\n",
    "# Create a copy of the original data for label encoding\n",
    "data_label_encoded = train_df.copy()\n",
    "\n",
    "categorical_cols = train_df.select_dtypes(include=['object']).columns\n",
    "\n",
    "# Apply label encoding to categorical columns\n",
    "for col in categorical_cols:\n",
    "    oe = OrdinalEncoder()\n",
    "    data_label_encoded[col] = oe.fit_transform(data_label_encoded[[col]])\n",
    "    print(oe.categories_)\n",
    "\n",
    "# Splitting the dataset into training and testing sets\n",
    "X_label = data_label_encoded.drop('price', axis=1)\n",
    "y_label = data_label_encoded['price']"
   ]
  },
  {
   "cell_type": "code",
   "execution_count": null,
   "id": "88064868-644b-495f-8a8e-fc87d262cd84",
   "metadata": {},
   "outputs": [],
   "source": [
    "X_label.head()"
   ]
  },
  {
   "cell_type": "code",
   "execution_count": null,
   "id": "e1aa6a9c-15aa-4e40-afa9-495b788cc881",
   "metadata": {},
   "outputs": [],
   "source": [
    "X_label.shape"
   ]
  },
  {
   "cell_type": "markdown",
   "id": "7dcd5511-3aa6-4295-9713-98f68dbd36e9",
   "metadata": {},
   "source": [
    "## Technique 1 - Correlation Analysis"
   ]
  },
  {
   "cell_type": "code",
   "execution_count": null,
   "id": "e1f9459b-d61c-46ef-b62c-4ea8d37910df",
   "metadata": {},
   "outputs": [],
   "source": [
    " sns.heatmap(data_label_encoded.corr())"
   ]
  },
  {
   "cell_type": "code",
   "execution_count": null,
   "id": "f1c9ce2a-e3da-4eef-98e1-479f209edf45",
   "metadata": {},
   "outputs": [],
   "source": [
    "fi_df1 = data_label_encoded.corr()['price'].iloc[1:].to_frame().reset_index().rename(columns={'index':'feature','price':'corr_coeff'})\n",
    "fi_df1"
   ]
  },
  {
   "cell_type": "markdown",
   "id": "78278a84-b6e4-4f52-8f2b-dbbcbd462531",
   "metadata": {},
   "source": [
    "## Technique 2 - Random Forest Feature Importance"
   ]
  },
  {
   "cell_type": "code",
   "execution_count": null,
   "id": "5aa16b45-9d0d-4925-aa1b-29d9b3ada200",
   "metadata": {},
   "outputs": [],
   "source": [
    "from sklearn.ensemble import RandomForestRegressor\n",
    "rf_label = RandomForestRegressor(n_estimators=100, random_state=42)\n",
    "rf_label.fit(X_label, y_label)\n",
    "\n",
    "fi_df2 = pd.DataFrame({\n",
    "    'feature': X_label.columns,\n",
    "    'rf_importance': rf_label.feature_importances_\n",
    "}).sort_values(by='rf_importance', ascending=False)\n",
    "\n",
    "fi_df2"
   ]
  },
  {
   "cell_type": "markdown",
   "id": "829e406c-077f-402c-8424-7919b7b51232",
   "metadata": {},
   "source": [
    "## Technique 3 - Gradient Boosting Feature importances\n"
   ]
  },
  {
   "cell_type": "code",
   "execution_count": null,
   "id": "0fe9568c-eb82-4e67-b73c-4f19378e2bc8",
   "metadata": {},
   "outputs": [],
   "source": [
    "from sklearn.ensemble import GradientBoostingRegressor\n",
    "\n",
    "# Train a Random Forest regressor on label encoded data\n",
    "gb_label = GradientBoostingRegressor()\n",
    "gb_label.fit(X_label, y_label)\n",
    "\n",
    "# Extract feature importance scores for label encoded data\n",
    "fi_df3 = pd.DataFrame({\n",
    "    'feature': X_label.columns,\n",
    "    'gb_importance': gb_label.feature_importances_\n",
    "}).sort_values(by='gb_importance', ascending=False)\n",
    "\n",
    "fi_df3"
   ]
  },
  {
   "cell_type": "markdown",
   "id": "4d96a8c5-b88a-4104-85be-430926eea1bf",
   "metadata": {},
   "source": [
    "## Technique 4 - Permutation Importance"
   ]
  },
  {
   "cell_type": "markdown",
   "id": "33bb33e6-457c-474f-9699-3baf91dee758",
   "metadata": {},
   "source": [
    "You jumble each column value and do the predcition, if the prediction goes down then the column has more importance if it remains unchanged then it has less importance."
   ]
  },
  {
   "cell_type": "code",
   "execution_count": null,
   "id": "9d023746-b81e-4397-88cd-4dc9d754531b",
   "metadata": {},
   "outputs": [],
   "source": [
    "from sklearn.inspection import permutation_importance\n",
    "from sklearn.model_selection import train_test_split\n",
    "\n",
    "X_train_label, X_test_label, y_train_label, y_test_label = train_test_split(X_label, y_label, test_size=0.2, random_state=42)\n",
    "\n",
    "# Train a Random Forest regressor on label encoded data\n",
    "rf_label = RandomForestRegressor(n_estimators=100, random_state=42)\n",
    "rf_label.fit(X_train_label, y_train_label)\n",
    "\n",
    "# Calculate Permutation Importance\n",
    "perm_importance = permutation_importance(rf_label, X_test_label, y_test_label, n_repeats=30, random_state=42)\n",
    "\n",
    "# Organize results into a DataFrame\n",
    "fi_df4 = pd.DataFrame({\n",
    "    'feature': X_label.columns,\n",
    "    'permutation_importance': perm_importance.importances_mean\n",
    "}).sort_values(by='permutation_importance', ascending=False)\n",
    "\n",
    "fi_df4"
   ]
  },
  {
   "cell_type": "markdown",
   "id": "9232c54f-f9ce-4f28-ae1d-b7b9c4da49e5",
   "metadata": {},
   "source": [
    "## Technique 5 - LASSO"
   ]
  },
  {
   "cell_type": "markdown",
   "id": "b68f2330-0ac9-455f-ad19-9e4d82c288ab",
   "metadata": {},
   "source": [
    "Will use linear model just to show that after Ordinal Encoding it is not that reliable."
   ]
  },
  {
   "cell_type": "code",
   "execution_count": null,
   "id": "0275a028-1010-4861-ae22-00aafe0a4dff",
   "metadata": {},
   "outputs": [],
   "source": [
    "from sklearn.linear_model import Lasso\n",
    "from sklearn.preprocessing import StandardScaler\n",
    "\n",
    "# Standardize the features\n",
    "scaler = StandardScaler()\n",
    "X_scaled = scaler.fit_transform(X_label)\n",
    "\n",
    "# Train a LASSO regression model\n",
    "# We'll use a relatively small value for alpha (the regularization strength) for demonstration purposes\n",
    "lasso = Lasso(alpha=0.01, random_state=42)\n",
    "lasso.fit(X_scaled, y_label)\n",
    "\n",
    "# Extract coefficients\n",
    "fi_df5 = pd.DataFrame({\n",
    "    'feature': X_label.columns,\n",
    "    'lasso_coeff': lasso.coef_\n",
    "}).sort_values(by='lasso_coeff', ascending=False)\n",
    "\n",
    "fi_df5"
   ]
  },
  {
   "cell_type": "markdown",
   "id": "1ff2a2c5-feae-4484-aa30-ddab6d5aec36",
   "metadata": {},
   "source": [
    "## Technique 6 - RFE"
   ]
  },
  {
   "cell_type": "code",
   "execution_count": null,
   "id": "986e0c07-b335-42cb-b67b-1fbb7d80adf7",
   "metadata": {},
   "outputs": [],
   "source": [
    "from sklearn.feature_selection import RFE\n",
    "\n",
    "# Initialize the base estimator\n",
    "estimator = RandomForestRegressor()\n",
    "\n",
    "# Apply RFE on the label-encoded and standardized training data\n",
    "selector_label = RFE(estimator, n_features_to_select=X_label.shape[1], step=1)\n",
    "selector_label = selector_label.fit(X_label, y_label)\n",
    "\n",
    "# Get the selected features based on RFE\n",
    "selected_features = X_label.columns[selector_label.support_]\n",
    "\n",
    "# Extract the coefficients for the selected features from the underlying linear regression model\n",
    "selected_coefficients = selector_label.estimator_.feature_importances_\n",
    "\n",
    "# Organize the results into a DataFrame\n",
    "fi_df6 = pd.DataFrame({\n",
    "    'feature': selected_features,\n",
    "    'rfe_score': selected_coefficients\n",
    "}).sort_values(by='rfe_score', ascending=False)\n",
    "\n",
    "fi_df6"
   ]
  },
  {
   "cell_type": "markdown",
   "id": "cda59179-cbc3-44b2-80d4-e18b31d6b2b8",
   "metadata": {},
   "source": [
    "## Technique 7 - Linear Regression Weights"
   ]
  },
  {
   "cell_type": "code",
   "execution_count": null,
   "id": "2c9c7990-b54e-4705-9178-faef4c1114c0",
   "metadata": {},
   "outputs": [],
   "source": [
    "# Train a linear regression model on the label-encoded and standardized training data\n",
    "from sklearn.linear_model import LinearRegression\n",
    "lin_reg = LinearRegression()\n",
    "lin_reg.fit(X_scaled, y_label)\n",
    "\n",
    "# Extract coefficients\n",
    "fi_df7 = pd.DataFrame({\n",
    "    'feature': X_label.columns,\n",
    "    'reg_coeffs': lin_reg.coef_\n",
    "}).sort_values(by='reg_coeffs', ascending=False)\n",
    "\n",
    "fi_df7"
   ]
  },
  {
   "cell_type": "markdown",
   "id": "58aaa46f-6d66-4ed4-9814-9cb39b22acbe",
   "metadata": {},
   "source": [
    "## Technique 8 - SHAP"
   ]
  },
  {
   "cell_type": "code",
   "execution_count": null,
   "id": "59ec265e-bde3-416c-93ac-73bf2234a11d",
   "metadata": {},
   "outputs": [],
   "source": [
    "import shap\n",
    "\n",
    "# Compute SHAP values using the trained Random Forest model\n",
    "rf = RandomForestRegressor(n_estimators=100, random_state=42)\n",
    "rf.fit(X_label, y_label)\n",
    "\n",
    "explainer = shap.TreeExplainer(rf)\n",
    "shap_values = explainer.shap_values(X_label)\n",
    "\n",
    "# Summing the absolute SHAP values across all samples to get an overall measure of feature importance\n",
    "shap_sum = np.abs(shap_values).mean(axis=0)\n",
    "\n",
    "shap_values"
   ]
  },
  {
   "cell_type": "code",
   "execution_count": null,
   "id": "f20a5042-62b7-4f9c-b023-179570fcdca0",
   "metadata": {},
   "outputs": [],
   "source": [
    "fi_df8 = pd.DataFrame({\n",
    "    'feature': X_label.columns,\n",
    "    'SHAP_score': np.abs(shap_values).mean(axis=0)\n",
    "}).sort_values(by='SHAP_score', ascending=False)\n",
    "\n",
    "fi_df8"
   ]
  },
  {
   "cell_type": "code",
   "execution_count": null,
   "id": "c31137db-dd26-4bbc-bcbb-538b3be25def",
   "metadata": {},
   "outputs": [],
   "source": [
    "final_fi_df = fi_df1.merge(fi_df2,on='feature').merge(fi_df3,on='feature').merge(fi_df4,on='feature').merge(fi_df5,on='feature').merge(fi_df6,on='feature').merge(fi_df7,on='feature').merge(fi_df8,on='feature').set_index('feature')\n"
   ]
  },
  {
   "cell_type": "code",
   "execution_count": null,
   "id": "edce1796-f7ee-4227-b5a6-9842f8ee9aed",
   "metadata": {},
   "outputs": [],
   "source": [
    "final_fi_df"
   ]
  },
  {
   "cell_type": "code",
   "execution_count": null,
   "id": "8fed7854-db7d-426e-a284-3507981a0407",
   "metadata": {},
   "outputs": [],
   "source": [
    "# normalize the score\n",
    "final_fi_df = final_fi_df.divide(final_fi_df.sum(axis=0), axis=1)"
   ]
  },
  {
   "cell_type": "code",
   "execution_count": null,
   "id": "4bcad10f-0ddb-4ba2-baa9-3dec459ccf37",
   "metadata": {},
   "outputs": [],
   "source": [
    "final_fi_df[['rf_importance','gb_importance','permutation_importance','rfe_score','SHAP_score']].mean(axis=1).sort_values(ascending=False)\n"
   ]
  },
  {
   "cell_type": "markdown",
   "id": "6ec485e2-cf4f-4863-a64e-d42b9951bf6c",
   "metadata": {},
   "source": [
    "* pooja room, study room, others has very less importance so drop it before droping do a verification if the prediction is changing or not."
   ]
  },
  {
   "cell_type": "code",
   "execution_count": null,
   "id": "78b608b3-76e8-4dee-ab9b-a365540108b1",
   "metadata": {},
   "outputs": [],
   "source": [
    "# with all the cols\n",
    "from sklearn.model_selection import cross_val_score\n",
    "\n",
    "rf = RandomForestRegressor(n_estimators=100, random_state=42)\n",
    "\n",
    "scores = cross_val_score(rf, X_label, y_label, cv=5, scoring='r2')"
   ]
  },
  {
   "cell_type": "code",
   "execution_count": null,
   "id": "df735743-48fc-4f70-9ff7-a1c1fe312bd4",
   "metadata": {},
   "outputs": [],
   "source": [
    "scores.mean()"
   ]
  },
  {
   "cell_type": "code",
   "execution_count": null,
   "id": "142b4ca3-8d11-4925-b680-deabccbf9960",
   "metadata": {},
   "outputs": [],
   "source": [
    "rf = RandomForestRegressor(n_estimators=100, random_state=42)\n",
    "\n",
    "scores = cross_val_score(rf, X_label.drop(columns=['pooja room', 'study room', 'others']), y_label, cv=5, scoring='r2')\n",
    "scores.mean()"
   ]
  },
  {
   "cell_type": "code",
   "execution_count": null,
   "id": "42a0e362-2baa-4a09-94e8-155999b69b46",
   "metadata": {},
   "outputs": [],
   "source": [
    "export_df = X_label.drop(columns=['pooja room', 'study room', 'others'])\n",
    "export_df['price'] = y_label"
   ]
  },
  {
   "cell_type": "code",
   "execution_count": null,
   "id": "ab080bd0-2337-4e24-b364-594c848ac7c3",
   "metadata": {},
   "outputs": [],
   "source": [
    "export_df"
   ]
  },
  {
   "cell_type": "code",
   "execution_count": null,
   "id": "4c3a7407-8a1e-482a-b28e-c32c32ee0313",
   "metadata": {},
   "outputs": [],
   "source": [
    "export_df.to_csv('../Dataset/gurgaon_properties_post_feature_selection.csv', index=False)"
   ]
  },
  {
   "cell_type": "code",
   "execution_count": null,
   "id": "3866edbb-d567-4ddc-9973-ca53eb5abb17",
   "metadata": {},
   "outputs": [],
   "source": []
  }
 ],
 "metadata": {
  "kernelspec": {
   "display_name": "Python 3 (ipykernel)",
   "language": "python",
   "name": "python3"
  },
  "language_info": {
   "codemirror_mode": {
    "name": "ipython",
    "version": 3
   },
   "file_extension": ".py",
   "mimetype": "text/x-python",
   "name": "python",
   "nbconvert_exporter": "python",
   "pygments_lexer": "ipython3",
   "version": "3.12.3"
  }
 },
 "nbformat": 4,
 "nbformat_minor": 5
}
