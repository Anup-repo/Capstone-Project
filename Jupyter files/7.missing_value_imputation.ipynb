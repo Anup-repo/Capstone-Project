{
 "cells": [
  {
   "cell_type": "code",
   "execution_count": null,
   "id": "ad5c02c9-01fd-40bb-87ef-876d202e065e",
   "metadata": {},
   "outputs": [],
   "source": [
    "import numpy as np\n",
    "import pandas as pd\n",
    "import matplotlib.pyplot as plt\n",
    "import seaborn as sns"
   ]
  },
  {
   "cell_type": "code",
   "execution_count": null,
   "id": "49ed0834-5641-45c7-ad28-d06e78f65df6",
   "metadata": {},
   "outputs": [],
   "source": [
    "pd.set_option(\"display.max_columns\",None)"
   ]
  },
  {
   "cell_type": "code",
   "execution_count": null,
   "id": "aed179ae-87c4-41fa-983a-5ba8249b10f3",
   "metadata": {},
   "outputs": [],
   "source": [
    "df = pd.read_csv(\"../Dataset/gurgaon_properties_outlier_treated.csv\")"
   ]
  },
  {
   "cell_type": "code",
   "execution_count": null,
   "id": "42abc6bd-b3d2-4993-b9e5-bde08fb0ac56",
   "metadata": {},
   "outputs": [],
   "source": [
    "df.head()"
   ]
  },
  {
   "cell_type": "code",
   "execution_count": null,
   "id": "3f4cd8f2-3fc3-4e8d-a405-9829325e1f9f",
   "metadata": {},
   "outputs": [],
   "source": [
    "df.drop(columns=[\"Unnamed: 0\"], inplace=True)"
   ]
  },
  {
   "cell_type": "code",
   "execution_count": null,
   "id": "2f5a59f8-57dd-4dd8-9f98-c15452fbaa86",
   "metadata": {},
   "outputs": [],
   "source": [
    "df.isnull().sum()"
   ]
  },
  {
   "cell_type": "markdown",
   "id": "4b3c4b1d-e8c9-4850-81ea-1299b884d238",
   "metadata": {},
   "source": [
    "Observation\n",
    "* built_up_area has highest missing value, so we will impute that column first.\n",
    "* Approach is check super built up area and carpet area and find its ration and fill it with that ratio. so we will only keep built up area "
   ]
  },
  {
   "cell_type": "markdown",
   "id": "9a3864e1-a7c9-4e5b-adbb-8bf4750bba39",
   "metadata": {},
   "source": [
    "## Built up area"
   ]
  },
  {
   "cell_type": "code",
   "execution_count": null,
   "id": "03dc8094-c7e6-4e2f-a3a3-9d070e6a72e6",
   "metadata": {},
   "outputs": [],
   "source": [
    "sns.scatterplot(x = df['built_up_area'],y = df['super_built_up_area'])"
   ]
  },
  {
   "cell_type": "code",
   "execution_count": null,
   "id": "ec625287-1a0e-42aa-8d4e-630a7dfa69f6",
   "metadata": {},
   "outputs": [],
   "source": [
    "sns.scatterplot(x = df['built_up_area'],y = df['carpet_area'])"
   ]
  },
  {
   "cell_type": "code",
   "execution_count": null,
   "id": "aa7c48dc-c464-4fa8-8b28-c3ef60e6f3ad",
   "metadata": {},
   "outputs": [],
   "source": [
    "carpet_to_built_up_ratio = round((df['carpet_area'].dropna()/df['built_up_area'].dropna()).median(),1)\n",
    "print(carpet_to_built_up_ratio)"
   ]
  },
  {
   "cell_type": "code",
   "execution_count": null,
   "id": "fb67c288-ede8-4883-b610-eae6997a1f8a",
   "metadata": {},
   "outputs": [],
   "source": [
    "super_to_built_up_ratio = round((df['super_built_up_area'].dropna()/df['built_up_area'].dropna()).median(),2)\n",
    "print(super_to_built_up_ratio)"
   ]
  },
  {
   "cell_type": "code",
   "execution_count": null,
   "id": "223d614e-c158-41d8-a1b9-8769f95de2ce",
   "metadata": {},
   "outputs": [],
   "source": [
    "# only built up area is null\n",
    "built_null_df = df[((~df['super_built_up_area'].isnull()) & (df['built_up_area'].isnull()) & (~df['carpet_area'].isnull()))]"
   ]
  },
  {
   "cell_type": "code",
   "execution_count": null,
   "id": "7f3f1afb-d8ba-4c70-a108-d94e69a589db",
   "metadata": {},
   "outputs": [],
   "source": [
    "built_null_df.head()"
   ]
  },
  {
   "cell_type": "code",
   "execution_count": null,
   "id": "1afd3240-5657-4ea9-804c-dfad36e3f9b9",
   "metadata": {},
   "outputs": [],
   "source": [
    "built_null_df['built_up_area'] = round(\n",
    "    ((built_null_df['super_built_up_area']/super_to_built_up_ratio) + (built_null_df['carpet_area']/carpet_to_built_up_ratio))/2,2)"
   ]
  },
  {
   "cell_type": "code",
   "execution_count": null,
   "id": "e0f23aaa-0b0f-4a59-baca-c2e9408a55fe",
   "metadata": {},
   "outputs": [],
   "source": [
    "built_null_df.head()"
   ]
  },
  {
   "cell_type": "code",
   "execution_count": null,
   "id": "208837ba-1f6a-4298-8368-d5f6ddf4d2c7",
   "metadata": {},
   "outputs": [],
   "source": [
    "df.update(built_null_df)"
   ]
  },
  {
   "cell_type": "code",
   "execution_count": null,
   "id": "f7762113-3a94-47e0-ae18-fe202b4accc1",
   "metadata": {},
   "outputs": [],
   "source": [
    "df.isnull().sum()"
   ]
  },
  {
   "cell_type": "code",
   "execution_count": null,
   "id": "de231269-6bc5-4693-88a9-9cbe4aa2b8c4",
   "metadata": {},
   "outputs": [],
   "source": [
    "# both built up area and carpet area is null and super built up is not null\n",
    "b_c_null_df = df[~(df['super_built_up_area'].isnull()) & (df['built_up_area'].isnull()) & (df['carpet_area'].isnull())]"
   ]
  },
  {
   "cell_type": "code",
   "execution_count": null,
   "id": "b105a772-7208-4b89-93b3-9f1090ef211b",
   "metadata": {},
   "outputs": [],
   "source": [
    "b_c_null_df.head()"
   ]
  },
  {
   "cell_type": "code",
   "execution_count": null,
   "id": "b67ce89f-d641-4533-a776-befc25d84007",
   "metadata": {},
   "outputs": [],
   "source": [
    "b_c_null_df['built_up_area'] = round(b_c_null_df['super_built_up_area']/super_to_built_up_ratio,2)"
   ]
  },
  {
   "cell_type": "code",
   "execution_count": null,
   "id": "db078524-f68b-44c7-8ab5-9fe22c3519a6",
   "metadata": {},
   "outputs": [],
   "source": [
    "b_c_null_df.head()"
   ]
  },
  {
   "cell_type": "code",
   "execution_count": null,
   "id": "bb697ea7-a0ca-40bf-ba53-4bd8bc390cb8",
   "metadata": {},
   "outputs": [],
   "source": [
    "df.update(b_c_null_df)"
   ]
  },
  {
   "cell_type": "code",
   "execution_count": null,
   "id": "58a52960-9335-47e4-a049-d3ba3cc7bd93",
   "metadata": {},
   "outputs": [],
   "source": [
    "df.isnull().sum()"
   ]
  },
  {
   "cell_type": "code",
   "execution_count": null,
   "id": "65a550f4-e1d9-4b30-ba9e-95fc47870f24",
   "metadata": {},
   "outputs": [],
   "source": [
    "# both super built up and built up is null and carpet is not null\n",
    "s_b_null_df = df[(df['super_built_up_area'].isnull()) & (df['built_up_area'].isnull()) & (~df['carpet_area'].isnull())]"
   ]
  },
  {
   "cell_type": "code",
   "execution_count": null,
   "id": "1e8d15bd-5a21-4b13-9632-ac95c8ae442a",
   "metadata": {},
   "outputs": [],
   "source": [
    "s_b_null_df.head()"
   ]
  },
  {
   "cell_type": "code",
   "execution_count": null,
   "id": "cc91ee23-f331-47af-a854-56efa2f8689c",
   "metadata": {},
   "outputs": [],
   "source": [
    "s_b_null_df['built_up_area'] = round((s_b_null_df['carpet_area']/carpet_to_built_up_ratio),2)"
   ]
  },
  {
   "cell_type": "code",
   "execution_count": null,
   "id": "5297138d-8167-44bd-923a-a9fbb7e70281",
   "metadata": {},
   "outputs": [],
   "source": [
    "s_b_null_df.head()"
   ]
  },
  {
   "cell_type": "code",
   "execution_count": null,
   "id": "a1184c21-ecd2-48dd-8bc3-add3a4811df1",
   "metadata": {},
   "outputs": [],
   "source": [
    "df.update(s_b_null_df)"
   ]
  },
  {
   "cell_type": "code",
   "execution_count": null,
   "id": "4d92dc77-78a5-4366-a3ee-8d1e0a90c8f7",
   "metadata": {},
   "outputs": [],
   "source": [
    "df.isnull().sum()"
   ]
  },
  {
   "cell_type": "code",
   "execution_count": null,
   "id": "5f0b3e26-e83d-4955-bc89-5bddf8330eeb",
   "metadata": {},
   "outputs": [],
   "source": [
    "sns.scatterplot(x = df['built_up_area'],y = df['price'])"
   ]
  },
  {
   "cell_type": "markdown",
   "id": "0224ca6c-d3cf-4e37-a189-7ed5a28bde99",
   "metadata": {},
   "source": [
    "Observation\n",
    "* All the filling has been done and the built up area to price ration should be linear but no idea why i am getting this"
   ]
  },
  {
   "cell_type": "code",
   "execution_count": null,
   "id": "e073d843-06c5-46aa-8ff8-e0198ac64bc5",
   "metadata": {},
   "outputs": [],
   "source": [
    "anamoly_df = df[(df['built_up_area'] < 2000) & (df['price'] > 2.5)][['price','area','built_up_area']]\n",
    "anamoly_df.sample(5)"
   ]
  },
  {
   "cell_type": "code",
   "execution_count": null,
   "id": "303b4567-5e0f-486d-b367-d2250948130b",
   "metadata": {},
   "outputs": [],
   "source": [
    "anamoly_df['built_up_area'] = anamoly_df['area']"
   ]
  },
  {
   "cell_type": "code",
   "execution_count": null,
   "id": "f892e566-30b4-4bf1-8337-46ea26a49e13",
   "metadata": {},
   "outputs": [],
   "source": [
    "df.update(anamoly_df)"
   ]
  },
  {
   "cell_type": "code",
   "execution_count": null,
   "id": "15233a96-3638-42b2-9d0f-738f3286ae60",
   "metadata": {},
   "outputs": [],
   "source": [
    "sns.scatterplot(x = df['built_up_area'],y = df['price'])"
   ]
  },
  {
   "cell_type": "markdown",
   "id": "72ea2dd8-aca1-4451-8ccb-c83d2d6fa87c",
   "metadata": {},
   "source": [
    "Observation\n",
    "* Filled the built up area "
   ]
  },
  {
   "cell_type": "code",
   "execution_count": null,
   "id": "9e4a060d-b435-4dc1-9185-15c8ae478684",
   "metadata": {},
   "outputs": [],
   "source": [
    "df.drop(columns=['area','areaWithType','super_built_up_area','carpet_area','area_room_ratio'],inplace=True)"
   ]
  },
  {
   "cell_type": "code",
   "execution_count": null,
   "id": "a46fe9ae-4cf3-4ec3-b096-602ab8923b60",
   "metadata": {},
   "outputs": [],
   "source": [
    "df.head()"
   ]
  },
  {
   "cell_type": "code",
   "execution_count": null,
   "id": "8532f425-5b3b-41c8-8f66-c5559eb8f10b",
   "metadata": {},
   "outputs": [],
   "source": [
    "df.isnull().sum()"
   ]
  },
  {
   "cell_type": "markdown",
   "id": "776c9b1a-9f15-4c5c-944b-aa82946aba35",
   "metadata": {},
   "source": [
    "## facing"
   ]
  },
  {
   "cell_type": "code",
   "execution_count": null,
   "id": "0b573092-3e3c-41e8-af0d-0cbc1ab084ca",
   "metadata": {},
   "outputs": [],
   "source": [
    "1009/df.shape[0]"
   ]
  },
  {
   "cell_type": "code",
   "execution_count": null,
   "id": "c3f01dd7-4922-4220-b7cb-6ee0a1481946",
   "metadata": {},
   "outputs": [],
   "source": [
    "df['facing'].value_counts().plot(kind='pie',autopct='%0.2f%%')"
   ]
  },
  {
   "cell_type": "code",
   "execution_count": null,
   "id": "58d61bcf-4dd8-447f-b2ba-9b55f3c4b653",
   "metadata": {},
   "outputs": [],
   "source": [
    "df.drop(columns=['facing'],inplace=True)"
   ]
  },
  {
   "cell_type": "code",
   "execution_count": null,
   "id": "53b94dd1-5d68-479d-a138-e0deebdca806",
   "metadata": {},
   "outputs": [],
   "source": [
    "df.isnull().sum()"
   ]
  },
  {
   "cell_type": "markdown",
   "id": "c04b5728-4775-408f-a029-6870bb36887a",
   "metadata": {},
   "source": [
    "Observation\n",
    "* Facing has lot of missing value.\n",
    "* from pie chart i am not get how to fill the null value there might be a relation but don't know.\n",
    "* finally i am droping that column\n"
   ]
  },
  {
   "cell_type": "markdown",
   "id": "a5cca4a4-5b0d-4ff7-a3cf-9da5ca26583a",
   "metadata": {},
   "source": [
    "## floornum"
   ]
  },
  {
   "cell_type": "code",
   "execution_count": null,
   "id": "7551536b-0059-4c77-9276-977a6e4a6ba6",
   "metadata": {},
   "outputs": [],
   "source": [
    "df[df['floorNum'].isnull()]"
   ]
  },
  {
   "cell_type": "code",
   "execution_count": null,
   "id": "60ae0798-a5e6-419f-bc67-b6ccd87c7a81",
   "metadata": {},
   "outputs": [],
   "source": [
    "df[df['property_type'] == 'house']['floorNum'].median()"
   ]
  },
  {
   "cell_type": "code",
   "execution_count": null,
   "id": "254e5069-fa15-4f93-8411-8f8616d381e4",
   "metadata": {},
   "outputs": [],
   "source": [
    "df['floorNum'].fillna(2.0,inplace=True)"
   ]
  },
  {
   "cell_type": "code",
   "execution_count": null,
   "id": "f7018d8d-33d8-4ef6-9e7b-8733e9759d57",
   "metadata": {},
   "outputs": [],
   "source": [
    "df.isnull().sum()"
   ]
  },
  {
   "cell_type": "markdown",
   "id": "c64ceb3c-e55b-48de-a463-cc23422747e8",
   "metadata": {},
   "source": [
    "Observation\n",
    "* in floor num all are hosue only 2 are flat so replacing the null value with the median of house"
   ]
  },
  {
   "cell_type": "markdown",
   "id": "ab192cf6-4c83-425a-893d-b58409148e71",
   "metadata": {},
   "source": [
    "## society"
   ]
  },
  {
   "cell_type": "code",
   "execution_count": null,
   "id": "538fa098-d971-4b26-9128-5f47f1c4c5b1",
   "metadata": {},
   "outputs": [],
   "source": [
    "df[df['society'].isnull()]"
   ]
  },
  {
   "cell_type": "code",
   "execution_count": null,
   "id": "d43b3c40-eac3-4419-81dd-1f211a976a4f",
   "metadata": {},
   "outputs": [],
   "source": [
    "df.drop(index=[2439],inplace=True)"
   ]
  },
  {
   "cell_type": "markdown",
   "id": "fec0808b-b689-421a-9d2d-2d71ab125c02",
   "metadata": {},
   "source": [
    "## agePossession"
   ]
  },
  {
   "cell_type": "markdown",
   "id": "369985ea-7279-4509-8eca-7f2015845932",
   "metadata": {},
   "source": [
    "Observation\n",
    "* age posession has lot of undefined value and need to fill it\n",
    "* we will go to secto and proerty type and check what are matching with undefined and will fill it with mode value of those matched result.\n",
    "* By checking both still there was undefined because the combination of sector and proeprty type gives null so we pick solo columns and filled the null values."
   ]
  },
  {
   "cell_type": "code",
   "execution_count": null,
   "id": "3c31308c-2c3d-4240-be51-5550dc97cd41",
   "metadata": {},
   "outputs": [],
   "source": [
    "df['agePossession'].value_counts()"
   ]
  },
  {
   "cell_type": "code",
   "execution_count": null,
   "id": "4d5d9f0c-336a-45c5-b5aa-f81a1915144d",
   "metadata": {},
   "outputs": [],
   "source": [
    "df[df['agePossession'] == 'Undefined']"
   ]
  },
  {
   "cell_type": "code",
   "execution_count": null,
   "id": "0b86ebd7-161f-41d2-b1eb-45a3628068bb",
   "metadata": {},
   "outputs": [],
   "source": [
    "def mode_based_imputation(row):\n",
    "    if row['agePossession'] == 'Undefined':\n",
    "        mode_value = df[(df['sector'] == row['sector']) & (df['property_type'] == row['property_type'])]['agePossession'].mode()\n",
    "        # If mode_value is empty (no mode found), return NaN, otherwise return the mode\n",
    "        if not mode_value.empty:\n",
    "            return mode_value.iloc[0] \n",
    "        else:\n",
    "            return np.nan\n",
    "    else:\n",
    "        return row['agePossession']"
   ]
  },
  {
   "cell_type": "code",
   "execution_count": null,
   "id": "853f10ed-b557-4259-b559-3b9b426cb789",
   "metadata": {},
   "outputs": [],
   "source": [
    "df['agePossession'] = df.apply(mode_based_imputation,axis=1)"
   ]
  },
  {
   "cell_type": "code",
   "execution_count": null,
   "id": "24a5f4f7-0009-44da-846d-6e365cbee652",
   "metadata": {},
   "outputs": [],
   "source": [
    "df['agePossession'].value_counts()"
   ]
  },
  {
   "cell_type": "code",
   "execution_count": null,
   "id": "0e7f89d0-a7fa-45c3-a0ab-0f50f5f8f347",
   "metadata": {},
   "outputs": [],
   "source": [
    "def mode_based_imputation2(row):\n",
    "    if row['agePossession'] == 'Undefined':\n",
    "        mode_value = df[(df['sector'] == row['sector'])]['agePossession'].mode()\n",
    "        # If mode_value is empty (no mode found), return NaN, otherwise return the mode\n",
    "        if not mode_value.empty:\n",
    "            return mode_value.iloc[0] \n",
    "        else:\n",
    "            return np.nan\n",
    "    else:\n",
    "        return row['agePossession']"
   ]
  },
  {
   "cell_type": "code",
   "execution_count": null,
   "id": "15b6c14c-8d2f-4345-81c3-f87ca07de9ff",
   "metadata": {},
   "outputs": [],
   "source": [
    "df['agePossession'] = df.apply(mode_based_imputation2,axis=1)"
   ]
  },
  {
   "cell_type": "code",
   "execution_count": null,
   "id": "514868d5-6568-442f-a415-e2887e4ce39f",
   "metadata": {},
   "outputs": [],
   "source": [
    "df['agePossession'].value_counts()"
   ]
  },
  {
   "cell_type": "code",
   "execution_count": null,
   "id": "fc0ca2b4-57c1-441d-a170-97244ed3ec23",
   "metadata": {},
   "outputs": [],
   "source": [
    "def mode_based_imputation3(row):\n",
    "    if row['agePossession'] == 'Undefined':\n",
    "        mode_value = df[(df['property_type'] == row['property_type'])]['agePossession'].mode()\n",
    "        # If mode_value is empty (no mode found), return NaN, otherwise return the mode\n",
    "        if not mode_value.empty:\n",
    "            return mode_value.iloc[0] \n",
    "        else:\n",
    "            return np.nan\n",
    "    else:\n",
    "        return row['agePossession']"
   ]
  },
  {
   "cell_type": "code",
   "execution_count": null,
   "id": "7242790f-c1b7-4baf-bfed-d714fc9c697f",
   "metadata": {},
   "outputs": [],
   "source": [
    "df['agePossession'] = df.apply(mode_based_imputation3,axis=1)\n"
   ]
  },
  {
   "cell_type": "code",
   "execution_count": null,
   "id": "a60f0604-1a7a-49ff-84ae-636a17052895",
   "metadata": {},
   "outputs": [],
   "source": [
    "df['agePossession'].value_counts()"
   ]
  },
  {
   "cell_type": "code",
   "execution_count": null,
   "id": "9c12d7dc-9997-4072-9054-7c85f8a1df18",
   "metadata": {},
   "outputs": [],
   "source": [
    "df.shape"
   ]
  },
  {
   "cell_type": "code",
   "execution_count": null,
   "id": "648addf0-ef7e-4c7a-99af-11986ee65ab1",
   "metadata": {},
   "outputs": [],
   "source": [
    "df.to_csv('../Dataset/gurgaon_properties_missing_value_imputation.csv',index=False)"
   ]
  },
  {
   "cell_type": "code",
   "execution_count": null,
   "id": "074a205a-7d9d-4713-89f6-fbc4147ac081",
   "metadata": {},
   "outputs": [],
   "source": []
  }
 ],
 "metadata": {
  "kernelspec": {
   "display_name": "Python 3 (ipykernel)",
   "language": "python",
   "name": "python3"
  },
  "language_info": {
   "codemirror_mode": {
    "name": "ipython",
    "version": 3
   },
   "file_extension": ".py",
   "mimetype": "text/x-python",
   "name": "python",
   "nbconvert_exporter": "python",
   "pygments_lexer": "ipython3",
   "version": "3.12.3"
  }
 },
 "nbformat": 4,
 "nbformat_minor": 5
}
