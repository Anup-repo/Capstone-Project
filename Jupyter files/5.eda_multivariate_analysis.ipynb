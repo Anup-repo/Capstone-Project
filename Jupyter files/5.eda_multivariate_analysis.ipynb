{
 "cells": [
  {
   "cell_type": "code",
   "execution_count": null,
   "id": "339d6a50-67ff-4955-a14c-4c97a2fa404d",
   "metadata": {},
   "outputs": [],
   "source": [
    "import pandas as pd\n",
    "import numpy as np\n",
    "import matplotlib.pyplot as plt\n",
    "import seaborn as sns"
   ]
  },
  {
   "cell_type": "code",
   "execution_count": null,
   "id": "bbf8bacc-71d9-40f3-b946-5f3b24c4205b",
   "metadata": {},
   "outputs": [],
   "source": [
    "pd.set_option(\"display.max_columns\",None)\n",
    "sns.set_style(\"darkgrid\")\n",
    "sns.set_palette(\"husl\")"
   ]
  },
  {
   "cell_type": "code",
   "execution_count": null,
   "id": "122568fd-0c1d-4f59-b819-4363ab43c2e1",
   "metadata": {},
   "outputs": [],
   "source": [
    "df = pd.read_csv(\"../Dataset/gurgaon_properties_cleaned_v2.csv\").drop_duplicates()"
   ]
  },
  {
   "cell_type": "code",
   "execution_count": null,
   "id": "9397af39-073d-47d9-9969-efada7d75b14",
   "metadata": {},
   "outputs": [],
   "source": [
    "df.head()"
   ]
  },
  {
   "cell_type": "markdown",
   "id": "9b2cb0ad-e489-48f7-940d-d94fd65489a7",
   "metadata": {},
   "source": [
    "## property_type vs price"
   ]
  },
  {
   "cell_type": "code",
   "execution_count": null,
   "id": "522fdeaa-165b-485d-8623-de0b447a3164",
   "metadata": {},
   "outputs": [],
   "source": [
    "sns.barplot(x=df['property_type'], y=df['price'], estimator=np.median)"
   ]
  },
  {
   "cell_type": "code",
   "execution_count": null,
   "id": "97d3f687-e786-4a5e-ba82-375f42f963d5",
   "metadata": {},
   "outputs": [],
   "source": [
    "sns.boxplot(x=df['property_type'], y=df['price'])"
   ]
  },
  {
   "cell_type": "markdown",
   "id": "96450464-b12a-4f61-93ff-3b520ab51b14",
   "metadata": {},
   "source": [
    "Observation\n",
    "* House are more costly than flat avg is 4 cr and flat is 1.5 cr"
   ]
  },
  {
   "cell_type": "markdown",
   "id": "90772b39-8841-47aa-9095-766d09e533d4",
   "metadata": {},
   "source": [
    "## property_type vs area"
   ]
  },
  {
   "cell_type": "code",
   "execution_count": null,
   "id": "0cd27fd3-64b8-40f9-873c-d03dfada0a60",
   "metadata": {},
   "outputs": [],
   "source": [
    "sns.barplot(x=df['property_type'], y=df['built_up_area'], estimator=np.median)"
   ]
  },
  {
   "cell_type": "code",
   "execution_count": null,
   "id": "d7ae2e98-c5b8-4ff7-b38b-70ab7f7d180a",
   "metadata": {},
   "outputs": [],
   "source": [
    "sns.boxplot(x=df['property_type'], y=df['built_up_area'])"
   ]
  },
  {
   "cell_type": "code",
   "execution_count": null,
   "id": "8051160b-6f4c-4b94-95f6-eb3d95b47ea4",
   "metadata": {},
   "outputs": [],
   "source": [
    "df[df['built_up_area'] > 700000]"
   ]
  },
  {
   "cell_type": "code",
   "execution_count": null,
   "id": "227cf999-4152-448c-8eba-909629bc19e0",
   "metadata": {},
   "outputs": [],
   "source": [
    "# removing that crazy outlier\n",
    "df = df[df['built_up_area'] != 737147]"
   ]
  },
  {
   "cell_type": "code",
   "execution_count": null,
   "id": "dc9b9eb7-96d6-4892-9d01-052a4f30b342",
   "metadata": {},
   "outputs": [],
   "source": [
    "sns.boxplot(x=df['property_type'], y=df['built_up_area'])"
   ]
  },
  {
   "cell_type": "markdown",
   "id": "a3ddfbbc-f74d-438d-a88d-00be1bd69e1a",
   "metadata": {},
   "source": [
    "Observation\n",
    "* house has more area as compared to flat"
   ]
  },
  {
   "cell_type": "markdown",
   "id": "e065ab66-37a7-412f-9741-cfd9cb27ce1f",
   "metadata": {},
   "source": [
    "## property_type vs price_per_sqft"
   ]
  },
  {
   "cell_type": "code",
   "execution_count": null,
   "id": "c2c7b309-49aa-4ec1-92fa-c71ad2f562d8",
   "metadata": {},
   "outputs": [],
   "source": [
    "sns.barplot(x=df['property_type'], y=df['price_per_sqft'], estimator=np.median)"
   ]
  },
  {
   "cell_type": "code",
   "execution_count": null,
   "id": "6088349c-66b6-435c-a3e8-16644001c0fd",
   "metadata": {},
   "outputs": [],
   "source": [
    "sns.boxplot(x=df['property_type'], y=df['price_per_sqft'])"
   ]
  },
  {
   "cell_type": "code",
   "execution_count": null,
   "id": "15261572-af16-497f-800b-df92c80a2562",
   "metadata": {
    "scrolled": true
   },
   "outputs": [],
   "source": [
    "df[df['price_per_sqft'] > 100000]"
   ]
  },
  {
   "cell_type": "markdown",
   "id": "222b7ba4-8464-4570-aa83-adf2a53e828d",
   "metadata": {},
   "source": [
    "Observation\n",
    "* price per sq.ft is too high, there is an errro in the convertion"
   ]
  },
  {
   "cell_type": "markdown",
   "id": "a680fb08-6abd-49c8-9fd4-6079d911a08f",
   "metadata": {},
   "source": [
    "## property_type vs bedroom"
   ]
  },
  {
   "cell_type": "code",
   "execution_count": null,
   "id": "9a6061a2-28fc-4b7f-a697-70b786448bad",
   "metadata": {},
   "outputs": [],
   "source": [
    "sns.heatmap(pd.crosstab(df['property_type'],df['bedRoom']))"
   ]
  },
  {
   "cell_type": "code",
   "execution_count": null,
   "id": "f82b1297-1fe5-40c8-9c06-be9c3d3da380",
   "metadata": {},
   "outputs": [],
   "source": [
    "sns.barplot(x=df['property_type'],y=df['floorNum'])"
   ]
  },
  {
   "cell_type": "code",
   "execution_count": null,
   "id": "e5bb8bd2-7c20-43e0-b12e-009f736fba65",
   "metadata": {},
   "outputs": [],
   "source": [
    "sns.boxplot(x=df['property_type'],y=df['floorNum'])"
   ]
  },
  {
   "cell_type": "code",
   "execution_count": null,
   "id": "b908cdd3-cf59-40ab-a18e-a3d46cb25fa3",
   "metadata": {},
   "outputs": [],
   "source": [
    "df[(df['property_type'] == 'house') & (df['floorNum'] > 10)]"
   ]
  },
  {
   "cell_type": "code",
   "execution_count": null,
   "id": "e22b0e9e-0e45-4e48-aff7-951db9682dc1",
   "metadata": {},
   "outputs": [],
   "source": [
    "plt.figure(figsize=(15,4))\n",
    "sns.heatmap(pd.pivot_table(df,index='property_type',columns='bedRoom',values='price',aggfunc='mean'),annot=True)"
   ]
  },
  {
   "cell_type": "markdown",
   "id": "d90cf16c-92aa-483c-9dc3-b7d3af034e35",
   "metadata": {},
   "source": [
    "Observation\n",
    "* houses(villa) but in appartments"
   ]
  },
  {
   "cell_type": "markdown",
   "id": "657e1457-39bd-4bff-9645-c19971c43ef3",
   "metadata": {},
   "source": [
    "## property_type vs agepossession"
   ]
  },
  {
   "cell_type": "code",
   "execution_count": null,
   "id": "78dfe58f-0a5e-485d-9b2a-72c6362fd6b4",
   "metadata": {},
   "outputs": [],
   "source": [
    "sns.heatmap(pd.crosstab(df['property_type'],df['agePossession']))"
   ]
  },
  {
   "cell_type": "code",
   "execution_count": null,
   "id": "475c1ccf-2376-43ee-aa70-dbda5c913fcf",
   "metadata": {},
   "outputs": [],
   "source": [
    "sns.heatmap(pd.pivot_table(df,index='property_type',columns='agePossession',values='price',aggfunc='mean'),annot=True)"
   ]
  },
  {
   "cell_type": "markdown",
   "id": "04de7063-204e-44cf-827e-00b9b2a51df8",
   "metadata": {},
   "source": [
    "## property_type vs furnishing_type"
   ]
  },
  {
   "cell_type": "code",
   "execution_count": null,
   "id": "a78fc5ca-218c-46a9-af0a-572cb7e03c83",
   "metadata": {},
   "outputs": [],
   "source": [
    "sns.heatmap(pd.crosstab(df['property_type'],df['furnishing_type']))"
   ]
  },
  {
   "cell_type": "code",
   "execution_count": null,
   "id": "50e5837d-377e-477a-a055-939155fb26ab",
   "metadata": {},
   "outputs": [],
   "source": [
    "sns.heatmap(pd.pivot_table(df,index='property_type',columns='furnishing_type',values='price',aggfunc='mean'),annot=True)"
   ]
  },
  {
   "cell_type": "markdown",
   "id": "94e58330-6556-4b4f-92a3-a359a8136a86",
   "metadata": {},
   "source": [
    "## property_type vs luxury_score"
   ]
  },
  {
   "cell_type": "code",
   "execution_count": null,
   "id": "510896e7-f2a0-4ba8-b970-b97e09d55028",
   "metadata": {},
   "outputs": [],
   "source": [
    "sns.barplot(x=df['property_type'],y=df['luxury_score'])"
   ]
  },
  {
   "cell_type": "code",
   "execution_count": null,
   "id": "64c92899-ffe4-4ede-8260-559ec1c8615e",
   "metadata": {},
   "outputs": [],
   "source": [
    "sns.boxplot(x=df['property_type'],y=df['luxury_score'])"
   ]
  },
  {
   "cell_type": "code",
   "execution_count": null,
   "id": "1f7d60fa-9ac3-45ab-bd5b-e01499a325fd",
   "metadata": {},
   "outputs": [],
   "source": [
    "# sector analysis\n",
    "plt.figure(figsize=(15,6))\n",
    "sns.heatmap(pd.crosstab(df['property_type'],df['sector'].sort_index()))"
   ]
  },
  {
   "cell_type": "code",
   "execution_count": null,
   "id": "0617bcb2-c03d-48da-b481-a1f35797f363",
   "metadata": {},
   "outputs": [],
   "source": [
    "# sector analysis\n",
    "import re\n",
    "# Group by 'sector' and calculate the average price\n",
    "avg_price_per_sector = df.groupby('sector')['price'].mean().reset_index()\n",
    "\n",
    "# Function to extract sector numbers\n",
    "def extract_sector_number(sector_name):\n",
    "    match = re.search(r'\\d+', sector_name)\n",
    "    if match:\n",
    "        return int(match.group())\n",
    "    else:\n",
    "        return float('inf')  # Return a large number for non-numbered sectors\n",
    "\n",
    "avg_price_per_sector['sector_number'] = avg_price_per_sector['sector'].apply(extract_sector_number)\n",
    "\n",
    "# Sort by sector number\n",
    "avg_price_per_sector_sorted_by_sector = avg_price_per_sector.sort_values(by='sector_number')\n",
    "\n",
    "# Plot the heatmap\n",
    "plt.figure(figsize=(5, 25))\n",
    "sns.heatmap(avg_price_per_sector_sorted_by_sector.set_index('sector')[['price']], annot=True, fmt=\".2f\", linewidths=.5)\n",
    "plt.title('Average Price per Sector (Sorted by Sector Number)')\n",
    "plt.xlabel('Average Price')\n",
    "plt.ylabel('Sector')\n",
    "plt.show()"
   ]
  },
  {
   "cell_type": "code",
   "execution_count": null,
   "id": "86172c0a-335b-41db-81f3-9ab82308f6b4",
   "metadata": {},
   "outputs": [],
   "source": [
    "avg_price_per_sqft_sector = df.groupby('sector')['price_per_sqft'].mean().reset_index()\n",
    "\n",
    "avg_price_per_sqft_sector['sector_number'] = avg_price_per_sqft_sector['sector'].apply(extract_sector_number)\n",
    "\n",
    "# Sort by sector number\n",
    "avg_price_per_sqft_sector_sorted_by_sector = avg_price_per_sqft_sector.sort_values(by='sector_number')\n",
    "\n",
    "# Plot the heatmap\n",
    "plt.figure(figsize=(5, 25))\n",
    "sns.heatmap(avg_price_per_sqft_sector_sorted_by_sector.set_index('sector')[['price_per_sqft']], annot=True, fmt=\".2f\", linewidths=.5)\n",
    "plt.title('Sector (Sorted by Sector Number)')\n",
    "plt.xlabel('Average Price per sqft')\n",
    "plt.ylabel('Sector')\n",
    "plt.show()"
   ]
  },
  {
   "cell_type": "code",
   "execution_count": null,
   "id": "d77ea20b-d130-438f-b82f-ff31d7d3a562",
   "metadata": {},
   "outputs": [],
   "source": [
    "luxury_score = df.groupby('sector')['luxury_score'].mean().reset_index()\n",
    "\n",
    "luxury_score['sector_number'] = luxury_score['sector'].apply(extract_sector_number)\n",
    "\n",
    "# Sort by sector number\n",
    "luxury_score_sector = luxury_score.sort_values(by='sector_number')\n",
    "\n",
    "# Plot the heatmap\n",
    "plt.figure(figsize=(5, 25))\n",
    "sns.heatmap(luxury_score_sector.set_index('sector')[['luxury_score']], annot=True, fmt=\".2f\", linewidths=.5)\n",
    "plt.title('Sector (Sorted by Sector Number)')\n",
    "plt.xlabel('Average Price per sqft')\n",
    "plt.ylabel('Sector')\n",
    "plt.show()"
   ]
  },
  {
   "cell_type": "markdown",
   "id": "0b202b8e-c508-4859-9c16-ac5e076ab5ef",
   "metadata": {},
   "source": [
    "## price"
   ]
  },
  {
   "cell_type": "code",
   "execution_count": null,
   "id": "6f7db682-980a-48d4-9097-140a78bdc9fe",
   "metadata": {},
   "outputs": [],
   "source": [
    "plt.figure(figsize=(12,8))\n",
    "sns.scatterplot(x = df[df['area']<10000]['area'],y = df['price'],hue=df['bedRoom'])"
   ]
  },
  {
   "cell_type": "code",
   "execution_count": null,
   "id": "717b8f4c-f730-4f2d-9cdd-13343e0dd39a",
   "metadata": {},
   "outputs": [],
   "source": [
    "sns.barplot(x=df['bedRoom'],y=df['price'],estimator=np.median)"
   ]
  },
  {
   "cell_type": "code",
   "execution_count": null,
   "id": "afbc965f-3970-4cfb-981f-e478aeee78ee",
   "metadata": {},
   "outputs": [],
   "source": [
    "sns.barplot(x=df['agePossession'],y=df['price'],estimator=np.median)\n",
    "plt.xticks(rotation='vertical')\n",
    "plt.show()"
   ]
  },
  {
   "cell_type": "code",
   "execution_count": null,
   "id": "8b7007e8-e34d-4916-8d39-54aa6c589249",
   "metadata": {},
   "outputs": [],
   "source": [
    "sns.barplot(x=df['furnishing_type'],y=df['price'],estimator=np.median)"
   ]
  },
  {
   "cell_type": "code",
   "execution_count": null,
   "id": "0fdccea5-40b4-4c0d-a4fc-e544d0e7beb9",
   "metadata": {},
   "outputs": [],
   "source": [
    "numeric_df = df.select_dtypes(include=['number'])\n",
    "\n",
    "# Create the heatmap\n",
    "plt.figure(figsize=(8, 8))\n",
    "sns.heatmap(numeric_df.corr(), annot=True, cmap='coolwarm')\n",
    "plt.show()\n"
   ]
  },
  {
   "cell_type": "code",
   "execution_count": null,
   "id": "84238b05-607e-49dc-8d49-7f331073ccdc",
   "metadata": {},
   "outputs": [],
   "source": [
    "numeric_df = df.select_dtypes(include=['number'])\n",
    "numeric_df.corr()['price'].sort_values(ascending=False)"
   ]
  },
  {
   "cell_type": "code",
   "execution_count": null,
   "id": "714075ca-3a71-444f-9b8a-ca1860772b16",
   "metadata": {},
   "outputs": [],
   "source": []
  }
 ],
 "metadata": {
  "kernelspec": {
   "display_name": "Python 3 (ipykernel)",
   "language": "python",
   "name": "python3"
  },
  "language_info": {
   "codemirror_mode": {
    "name": "ipython",
    "version": 3
   },
   "file_extension": ".py",
   "mimetype": "text/x-python",
   "name": "python",
   "nbconvert_exporter": "python",
   "pygments_lexer": "ipython3",
   "version": "3.12.3"
  }
 },
 "nbformat": 4,
 "nbformat_minor": 5
}
