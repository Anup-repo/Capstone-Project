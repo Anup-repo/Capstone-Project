{
 "cells": [
  {
   "cell_type": "code",
   "execution_count": null,
   "metadata": {},
   "outputs": [],
   "source": [
    "import pandas as pd\n",
    "import numpy as np\n",
    "import re"
   ]
  },
  {
   "cell_type": "code",
   "execution_count": null,
   "metadata": {},
   "outputs": [],
   "source": [
    "pd.set_option(\"display.max_colwidth\", None)\n",
    "pd.set_option(\"display.max_rows\", None)\n",
    "pd.set_option(\"display.max_columns\", None)"
   ]
  },
  {
   "cell_type": "code",
   "execution_count": null,
   "metadata": {},
   "outputs": [],
   "source": [
    "df = pd.read_csv(\"../Dataset/gurgaon_properties_cleaned_v1.csv\")"
   ]
  },
  {
   "cell_type": "code",
   "execution_count": null,
   "metadata": {},
   "outputs": [],
   "source": [
    "df.duplicated().sum()\n",
    "# df[df.duplicated()].sort_values(by=\"society\")"
   ]
  },
  {
   "cell_type": "code",
   "execution_count": null,
   "metadata": {},
   "outputs": [],
   "source": [
    "# feature engineering -> areaWithType, additionalRoom, facing, agePossession, furnishDetails, features\n",
    "df.head(1)"
   ]
  },
  {
   "cell_type": "markdown",
   "metadata": {},
   "source": [
    "## 1. areaWithType"
   ]
  },
  {
   "cell_type": "code",
   "execution_count": null,
   "metadata": {},
   "outputs": [],
   "source": [
    "df.sample(5)[[\"price\", \"area\", \"areaWithType\"]]"
   ]
  },
  {
   "cell_type": "code",
   "execution_count": null,
   "metadata": {},
   "outputs": [],
   "source": [
    "# This function extracts the Super Built up area\n",
    "def get_super_built_up_area(text):\n",
    "    match = re.search(r\"Super Built up area (\\d+\\.?\\d*)\", text)\n",
    "    if match:\n",
    "        return float(match.group(1))\n",
    "    return None"
   ]
  },
  {
   "cell_type": "code",
   "execution_count": null,
   "metadata": {},
   "outputs": [],
   "source": [
    "# This function extracts the Built Up area or Carpet area\n",
    "def get_area(text, area_type):\n",
    "    match = re.search(area_type + r\"\\s*:\\s*(\\d+\\.?\\d*)\", text)\n",
    "    if match:\n",
    "        return float(match.group(1))\n",
    "    return None"
   ]
  },
  {
   "cell_type": "code",
   "execution_count": null,
   "metadata": {},
   "outputs": [],
   "source": [
    "# Function to extract plot area from 'areaWithType' column\n",
    "def extract_plot_area(area_with_type):\n",
    "    match = re.search(r\"Plot area (\\d+\\.?\\d*)\", area_with_type)\n",
    "    return float(match.group(1)) if match else None"
   ]
  },
  {
   "cell_type": "code",
   "execution_count": null,
   "metadata": {},
   "outputs": [],
   "source": [
    "# This function checks if the area is provided in sq.m. and converts it to sqft if needed\n",
    "def convert_to_sqft(text, area_value):\n",
    "    if area_value is None:\n",
    "        return None\n",
    "    match = re.search(\n",
    "        r\"{}\\s*(?:sq\\.ft.)?\\s*\\(\\s*([\\d.]+)\\s*sq\\.m\\.\".format(area_value), text\n",
    "    )\n",
    "    if match:\n",
    "        sq_m_value = float(match.group(1))\n",
    "        return round(sq_m_value * 10.7639)  # conversion factor from sq.m. to sqft\n",
    "    return area_value"
   ]
  },
  {
   "cell_type": "code",
   "execution_count": null,
   "metadata": {},
   "outputs": [],
   "source": [
    "df['super_built_up_area'] = df['areaWithType'].apply(get_super_built_up_area)\n",
    "df[\"super_built_up_area\"] = df.apply(\n",
    "    lambda x: convert_to_sqft(x[\"areaWithType\"], x[\"super_built_up_area\"]), axis=1\n",
    ")"
   ]
  },
  {
   "cell_type": "code",
   "execution_count": null,
   "metadata": {},
   "outputs": [],
   "source": [
    "df[\"built_up_area\"] = df[\"areaWithType\"].apply(lambda x: get_area(x, \"Built Up area\"))\n",
    "df[\"built_up_area\"] = df.apply(\n",
    "    lambda x: convert_to_sqft(x[\"areaWithType\"], x[\"built_up_area\"]), axis=1\n",
    ")"
   ]
  },
  {
   "cell_type": "code",
   "execution_count": null,
   "metadata": {},
   "outputs": [],
   "source": [
    "df[\"carpet_area\"] = df[\"areaWithType\"].apply(lambda x: get_area(x, \"Carpet area\"))\n",
    "df[\"carpet_area\"] = df.apply(\n",
    "    lambda x: convert_to_sqft(x[\"areaWithType\"], x[\"carpet_area\"]), axis=1\n",
    ")"
   ]
  },
  {
   "cell_type": "code",
   "execution_count": null,
   "metadata": {},
   "outputs": [],
   "source": [
    "# all the column has values\n",
    "df[\n",
    "    ~(\n",
    "        (df[\"super_built_up_area\"].isnull())\n",
    "        | (df[\"built_up_area\"].isnull())\n",
    "        | (df[\"carpet_area\"].isnull())\n",
    "    )\n",
    "].shape"
   ]
  },
  {
   "cell_type": "code",
   "execution_count": null,
   "metadata": {},
   "outputs": [],
   "source": [
    "all_nan_df = df[\n",
    "    (\n",
    "        (df[\"super_built_up_area\"].isnull())\n",
    "        & (df[\"built_up_area\"].isnull())\n",
    "        & (df[\"carpet_area\"].isnull())\n",
    "    )\n",
    "]"
   ]
  },
  {
   "cell_type": "code",
   "execution_count": null,
   "metadata": {},
   "outputs": [],
   "source": [
    "all_nan_df[\"built_up_area\"] = all_nan_df[\"areaWithType\"].apply(extract_plot_area)"
   ]
  },
  {
   "cell_type": "code",
   "execution_count": null,
   "metadata": {},
   "outputs": [],
   "source": [
    "all_nan_df[\n",
    "    [\n",
    "        \"price\",\n",
    "        \"property_type\",\n",
    "        \"area\",\n",
    "        \"areaWithType\",\n",
    "        \"super_built_up_area\",\n",
    "        \"built_up_area\",\n",
    "        \"carpet_area\",\n",
    "    ]\n",
    "].head(30)"
   ]
  },
  {
   "cell_type": "code",
   "execution_count": null,
   "metadata": {},
   "outputs": [],
   "source": [
    "# convert to sq. ft.\n",
    "def convert_scale(row):\n",
    "    if np.isnan(row[\"area\"]) or np.isnan(row[\"built_up_area\"]):\n",
    "        return row[\"built_up_area\"]\n",
    "    else:\n",
    "        if round(row[\"area\"] / row[\"built_up_area\"]) == 9.0: # sq. yard\n",
    "            return row[\"built_up_area\"] * 9\n",
    "        elif round(row[\"area\"] / row[\"built_up_area\"]) == 11.0: # sq.m\n",
    "            return row[\"built_up_area\"] * 10.7\n",
    "        else:\n",
    "            return row[\"built_up_area\"]"
   ]
  },
  {
   "cell_type": "code",
   "execution_count": null,
   "metadata": {},
   "outputs": [],
   "source": [
    "all_nan_df[\"built_up_area\"] = all_nan_df.apply(convert_scale, axis=1)"
   ]
  },
  {
   "cell_type": "code",
   "execution_count": null,
   "metadata": {},
   "outputs": [],
   "source": [
    "all_nan_df[\n",
    "    [\n",
    "        \"price\",\n",
    "        \"property_type\",\n",
    "        \"area\",\n",
    "        \"areaWithType\",\n",
    "        \"super_built_up_area\",\n",
    "        \"built_up_area\",\n",
    "        \"carpet_area\",\n",
    "    ]\n",
    "].head(30)"
   ]
  },
  {
   "cell_type": "code",
   "execution_count": null,
   "metadata": {},
   "outputs": [],
   "source": [
    "df.update(all_nan_df)"
   ]
  },
  {
   "cell_type": "code",
   "execution_count": null,
   "metadata": {},
   "outputs": [],
   "source": [
    "df.isnull().sum()"
   ]
  },
  {
   "cell_type": "markdown",
   "metadata": {},
   "source": [
    "## additionRooms"
   ]
  },
  {
   "cell_type": "code",
   "execution_count": null,
   "metadata": {},
   "outputs": [],
   "source": [
    "df[\"additionalRoom\"].value_counts()"
   ]
  },
  {
   "cell_type": "code",
   "execution_count": null,
   "metadata": {},
   "outputs": [],
   "source": [
    "new_cols = [\"study room\", \"servant room\", \"store room\", \"pooja room\", \"others\"]\n",
    "\n",
    "for col in new_cols:\n",
    "    df[col] = df[\"additionalRoom\"].str.contains(col).astype(int)"
   ]
  },
  {
   "cell_type": "code",
   "execution_count": null,
   "metadata": {},
   "outputs": [],
   "source": [
    "df.sample(5)[\n",
    "    [\n",
    "        \"additionalRoom\",\n",
    "        \"study room\",\n",
    "        \"servant room\",\n",
    "        \"store room\",\n",
    "        \"pooja room\",\n",
    "        \"others\",\n",
    "    ]\n",
    "]"
   ]
  },
  {
   "cell_type": "markdown",
   "metadata": {},
   "source": [
    "## 3.agePossession"
   ]
  },
  {
   "cell_type": "code",
   "execution_count": null,
   "metadata": {},
   "outputs": [],
   "source": [
    "df[\"agePossession\"].value_counts()"
   ]
  },
  {
   "cell_type": "code",
   "execution_count": null,
   "metadata": {},
   "outputs": [],
   "source": [
    "def categorize_age_possession(value):\n",
    "    if pd.isna(value):\n",
    "        return \"Undefined\"\n",
    "    if (\n",
    "        \"0 to 1 Year Old\" in value\n",
    "        or \"Within 6 months\" in value\n",
    "        or \"Within 3 months\" in value\n",
    "    ):\n",
    "        return \"New Property\"\n",
    "    if \"1 to 5 Year Old\" in value:\n",
    "        return \"Relatively New\"\n",
    "    if \"5 to 10 Year Old\" in value:\n",
    "        return \"Moderately Old\"\n",
    "    if \"10+ Year Old\" in value:\n",
    "        return \"Old Property\"\n",
    "    if \"Under Construction\" in value or \"By\" in value:\n",
    "        return \"Under Construction\"\n",
    "    try:\n",
    "        # For entries like 'May 2024'\n",
    "        int(value.split(\" \")[-1])\n",
    "        return \"Under Construction\"\n",
    "    except:\n",
    "        return \"Undefined\""
   ]
  },
  {
   "cell_type": "code",
   "execution_count": null,
   "metadata": {},
   "outputs": [],
   "source": [
    "df[\"agePossession\"] = df[\"agePossession\"].apply(categorize_age_possession)"
   ]
  },
  {
   "cell_type": "code",
   "execution_count": null,
   "metadata": {},
   "outputs": [],
   "source": [
    "df[\"agePossession\"].value_counts()"
   ]
  },
  {
   "cell_type": "markdown",
   "metadata": {},
   "source": [
    "## 4.furnishDetails"
   ]
  },
  {
   "cell_type": "code",
   "execution_count": null,
   "metadata": {},
   "outputs": [],
   "source": [
    "df.sample(5)[[\"furnishDetails\", \"features\"]]"
   ]
  },
  {
   "cell_type": "code",
   "execution_count": null,
   "metadata": {},
   "outputs": [],
   "source": [
    "# Extract all unique furnishings from the furnishDetails column\n",
    "all_furnishings = []\n",
    "for detail in df[\"furnishDetails\"].dropna():\n",
    "    furnishings = detail.replace(\"[\", \"\").replace(\"]\", \"\").replace(\"'\", \"\").split(\", \")\n",
    "    all_furnishings.extend(furnishings)\n",
    "unique_furnishings = list(set(all_furnishings))\n",
    "\n",
    "\n",
    "# Define a function to extract the count of a furnishing from the furnishDetails\n",
    "def get_furnishing_count(details, furnishing):\n",
    "    if isinstance(details, str):\n",
    "        if f\"No {furnishing}\" in details:\n",
    "            return 0\n",
    "        pattern = re.compile(f\"(\\d+) {furnishing}\")\n",
    "        match = pattern.search(details)\n",
    "        if match:\n",
    "            return int(match.group(1))\n",
    "        elif furnishing in details:\n",
    "            return 1\n",
    "    return 0\n",
    "\n",
    "\n",
    "# Simplify the furnishings list by removing \"No\" prefix and numbers\n",
    "columns_to_include = [\n",
    "    re.sub(r\"No |\\d+\", \"\", furnishing).strip() for furnishing in unique_furnishings\n",
    "]\n",
    "columns_to_include = list(set(columns_to_include))  # Get unique furnishings\n",
    "columns_to_include = [\n",
    "    furnishing for furnishing in columns_to_include if furnishing\n",
    "]  # Remove empty strings\n",
    "\n",
    "# Create new columns for each unique furnishing and populate with counts\n",
    "for furnishing in columns_to_include:\n",
    "    df[furnishing] = df[\"furnishDetails\"].apply(\n",
    "        lambda x: get_furnishing_count(x, furnishing)\n",
    "    )\n",
    "\n",
    "# Create the new dataframe with the required columns\n",
    "furnishings_df = df[[\"furnishDetails\"] + columns_to_include]"
   ]
  },
  {
   "cell_type": "code",
   "execution_count": null,
   "metadata": {},
   "outputs": [],
   "source": [
    "furnishings_df.shape"
   ]
  },
  {
   "cell_type": "code",
   "execution_count": null,
   "metadata": {},
   "outputs": [],
   "source": [
    "furnishings_df.drop(columns=[\"furnishDetails\"], inplace=True)"
   ]
  },
  {
   "cell_type": "code",
   "execution_count": null,
   "metadata": {},
   "outputs": [],
   "source": [
    "furnishings_df.sample(5)"
   ]
  },
  {
   "cell_type": "code",
   "execution_count": null,
   "metadata": {},
   "outputs": [],
   "source": [
    "import matplotlib.pyplot as plt\n",
    "from sklearn.cluster import KMeans\n",
    "from sklearn.preprocessing import StandardScaler"
   ]
  },
  {
   "cell_type": "code",
   "execution_count": null,
   "metadata": {},
   "outputs": [],
   "source": [
    "scaler = StandardScaler()\n",
    "scaled_data = scaler.fit_transform(furnishings_df)"
   ]
  },
  {
   "cell_type": "code",
   "execution_count": null,
   "metadata": {},
   "outputs": [],
   "source": [
    "wcss_reduced = []\n",
    "\n",
    "for i in range(1, 11):\n",
    "    kmeans = KMeans(n_clusters=i, init=\"k-means++\", random_state=42)\n",
    "    kmeans.fit(scaled_data)\n",
    "    wcss_reduced.append(kmeans.inertia_)"
   ]
  },
  {
   "cell_type": "code",
   "execution_count": null,
   "metadata": {},
   "outputs": [],
   "source": [
    "# Plot the results\n",
    "plt.figure(figsize=(12, 8))\n",
    "plt.plot(range(1, 11), wcss_reduced, marker=\"o\", linestyle=\"--\")\n",
    "plt.title(\"Elbow Method For Optimal Number of Clusters (Reduced Range)\")\n",
    "plt.xlabel(\"Number of Clusters\")\n",
    "plt.ylabel(\"WCSS\")\n",
    "plt.grid(True)\n",
    "plt.show()"
   ]
  },
  {
   "cell_type": "code",
   "execution_count": null,
   "metadata": {},
   "outputs": [],
   "source": [
    "n_clusters = 3\n",
    "\n",
    "# Fit the KMeans model\n",
    "kmeans = KMeans(n_clusters=n_clusters, random_state=42)\n",
    "kmeans.fit(scaled_data)\n",
    "\n",
    "# Predict the cluster assignments for each row\n",
    "cluster_assignments = kmeans.predict(scaled_data)"
   ]
  },
  {
   "cell_type": "code",
   "execution_count": null,
   "metadata": {},
   "outputs": [],
   "source": [
    "df.info()"
   ]
  },
  {
   "cell_type": "code",
   "execution_count": null,
   "metadata": {},
   "outputs": [],
   "source": [
    "df = df.iloc[:, :-18]"
   ]
  },
  {
   "cell_type": "code",
   "execution_count": null,
   "metadata": {},
   "outputs": [],
   "source": [
    "df[\"furnishing_type\"] = cluster_assignments"
   ]
  },
  {
   "cell_type": "code",
   "execution_count": null,
   "metadata": {},
   "outputs": [],
   "source": [
    "df.sample(5)[[\"furnishDetails\", \"furnishing_type\"]]\n",
    "# 0 -> unfurnished\n",
    "# 1 -> semifurnished\n",
    "# 2 -> furnished"
   ]
  },
  {
   "cell_type": "code",
   "execution_count": null,
   "metadata": {},
   "outputs": [],
   "source": [
    "df.head(1)"
   ]
  },
  {
   "cell_type": "markdown",
   "metadata": {},
   "source": [
    "## 5.features"
   ]
  },
  {
   "cell_type": "code",
   "execution_count": null,
   "metadata": {},
   "outputs": [],
   "source": [
    "df[[\"society\", \"features\"]].sample(5)"
   ]
  },
  {
   "cell_type": "code",
   "execution_count": null,
   "metadata": {},
   "outputs": [],
   "source": [
    "df[\"features\"].isnull().sum()"
   ]
  },
  {
   "cell_type": "code",
   "execution_count": null,
   "metadata": {},
   "outputs": [],
   "source": [
    "app_df = pd.read_csv(\"../Dataset/appartments.csv\")\n",
    "app_df.head(2)"
   ]
  },
  {
   "cell_type": "code",
   "execution_count": null,
   "metadata": {},
   "outputs": [],
   "source": [
    "app_df[\"PropertyName\"] = app_df[\"PropertyName\"].str.lower()"
   ]
  },
  {
   "cell_type": "code",
   "execution_count": null,
   "metadata": {},
   "outputs": [],
   "source": [
    "temp_df = df[df[\"features\"].isnull()]\n",
    "temp_df.shape"
   ]
  },
  {
   "cell_type": "code",
   "execution_count": null,
   "metadata": {},
   "outputs": [],
   "source": [
    "x = temp_df.merge(app_df, left_on=\"society\", right_on=\"PropertyName\", how=\"left\")[\n",
    "    \"TopFacilities\"\n",
    "]"
   ]
  },
  {
   "cell_type": "code",
   "execution_count": null,
   "metadata": {},
   "outputs": [],
   "source": [
    "df.loc[temp_df.index, \"features\"] = x.values"
   ]
  },
  {
   "cell_type": "code",
   "execution_count": null,
   "metadata": {},
   "outputs": [],
   "source": [
    "df[\"features\"].isnull().sum()"
   ]
  },
  {
   "cell_type": "code",
   "execution_count": null,
   "metadata": {},
   "outputs": [],
   "source": [
    "import ast\n",
    "# Convert the string representation of lists in the 'features' column to actual lists\n",
    "df[\"features_list\"] = df[\"features\"].apply(\n",
    "    lambda x: ast.literal_eval(x) if pd.notnull(x) and x.startswith(\"[\") else []\n",
    ")"
   ]
  },
  {
   "cell_type": "code",
   "execution_count": null,
   "metadata": {},
   "outputs": [],
   "source": [
    "from sklearn.preprocessing import MultiLabelBinarizer\n",
    "mlb = MultiLabelBinarizer()\n",
    "features_binary_matrix = mlb.fit_transform(df[\"features_list\"])\n",
    "\n",
    "# Convert the binary matrix into a DataFrame\n",
    "features_binary_df = pd.DataFrame(features_binary_matrix, columns=mlb.classes_)"
   ]
  },
  {
   "cell_type": "code",
   "execution_count": null,
   "metadata": {},
   "outputs": [],
   "source": [
    "features_binary_df.sample(5)"
   ]
  },
  {
   "cell_type": "code",
   "execution_count": null,
   "metadata": {},
   "outputs": [],
   "source": [
    "weights = {\n",
    "    \"24/7 Power Backup\": 8,\n",
    "    \"24/7 Water Supply\": 4,\n",
    "    \"24x7 Security\": 7,\n",
    "    \"ATM\": 4,\n",
    "    \"Aerobics Centre\": 6,\n",
    "    \"Airy Rooms\": 8,\n",
    "    \"Amphitheatre\": 7,\n",
    "    \"Badminton Court\": 7,\n",
    "    \"Banquet Hall\": 8,\n",
    "    \"Bar/Chill-Out Lounge\": 9,\n",
    "    \"Barbecue\": 7,\n",
    "    \"Basketball Court\": 7,\n",
    "    \"Billiards\": 7,\n",
    "    \"Bowling Alley\": 8,\n",
    "    \"Business Lounge\": 9,\n",
    "    \"CCTV Camera Security\": 8,\n",
    "    \"Cafeteria\": 6,\n",
    "    \"Car Parking\": 6,\n",
    "    \"Card Room\": 6,\n",
    "    \"Centrally Air Conditioned\": 9,\n",
    "    \"Changing Area\": 6,\n",
    "    \"Children's Play Area\": 7,\n",
    "    \"Cigar Lounge\": 9,\n",
    "    \"Clinic\": 5,\n",
    "    \"Club House\": 9,\n",
    "    \"Concierge Service\": 9,\n",
    "    \"Conference room\": 8,\n",
    "    \"Creche/Day care\": 7,\n",
    "    \"Cricket Pitch\": 7,\n",
    "    \"Doctor on Call\": 6,\n",
    "    \"Earthquake Resistant\": 5,\n",
    "    \"Entrance Lobby\": 7,\n",
    "    \"False Ceiling Lighting\": 6,\n",
    "    \"Feng Shui / Vaastu Compliant\": 5,\n",
    "    \"Fire Fighting Systems\": 8,\n",
    "    \"Fitness Centre / GYM\": 8,\n",
    "    \"Flower Garden\": 7,\n",
    "    \"Food Court\": 6,\n",
    "    \"Foosball\": 5,\n",
    "    \"Football\": 7,\n",
    "    \"Fountain\": 7,\n",
    "    \"Gated Community\": 7,\n",
    "    \"Golf Course\": 10,\n",
    "    \"Grocery Shop\": 6,\n",
    "    \"Gymnasium\": 8,\n",
    "    \"High Ceiling Height\": 8,\n",
    "    \"High Speed Elevators\": 8,\n",
    "    \"Infinity Pool\": 9,\n",
    "    \"Intercom Facility\": 7,\n",
    "    \"Internal Street Lights\": 6,\n",
    "    \"Internet/wi-fi connectivity\": 7,\n",
    "    \"Jacuzzi\": 9,\n",
    "    \"Jogging Track\": 7,\n",
    "    \"Landscape Garden\": 8,\n",
    "    \"Laundry\": 6,\n",
    "    \"Lawn Tennis Court\": 8,\n",
    "    \"Library\": 8,\n",
    "    \"Lounge\": 8,\n",
    "    \"Low Density Society\": 7,\n",
    "    \"Maintenance Staff\": 6,\n",
    "    \"Manicured Garden\": 7,\n",
    "    \"Medical Centre\": 5,\n",
    "    \"Milk Booth\": 4,\n",
    "    \"Mini Theatre\": 9,\n",
    "    \"Multipurpose Court\": 7,\n",
    "    \"Multipurpose Hall\": 7,\n",
    "    \"Natural Light\": 8,\n",
    "    \"Natural Pond\": 7,\n",
    "    \"Park\": 8,\n",
    "    \"Party Lawn\": 8,\n",
    "    \"Piped Gas\": 7,\n",
    "    \"Pool Table\": 7,\n",
    "    \"Power Back up Lift\": 8,\n",
    "    \"Private Garden / Terrace\": 9,\n",
    "    \"Property Staff\": 7,\n",
    "    \"RO System\": 7,\n",
    "    \"Rain Water Harvesting\": 7,\n",
    "    \"Reading Lounge\": 8,\n",
    "    \"Restaurant\": 8,\n",
    "    \"Salon\": 8,\n",
    "    \"Sauna\": 9,\n",
    "    \"Security / Fire Alarm\": 9,\n",
    "    \"Security Personnel\": 9,\n",
    "    \"Separate entry for servant room\": 8,\n",
    "    \"Sewage Treatment Plant\": 6,\n",
    "    \"Shopping Centre\": 7,\n",
    "    \"Skating Rink\": 7,\n",
    "    \"Solar Lighting\": 6,\n",
    "    \"Solar Water Heating\": 7,\n",
    "    \"Spa\": 9,\n",
    "    \"Spacious Interiors\": 9,\n",
    "    \"Squash Court\": 8,\n",
    "    \"Steam Room\": 9,\n",
    "    \"Sun Deck\": 8,\n",
    "    \"Swimming Pool\": 8,\n",
    "    \"Temple\": 5,\n",
    "    \"Theatre\": 9,\n",
    "    \"Toddler Pool\": 7,\n",
    "    \"Valet Parking\": 9,\n",
    "    \"Video Door Security\": 9,\n",
    "    \"Visitor Parking\": 7,\n",
    "    \"Water Softener Plant\": 7,\n",
    "    \"Water Storage\": 7,\n",
    "    \"Water purifier\": 7,\n",
    "    \"Yoga/Meditation Area\": 7,\n",
    "}\n",
    "# Calculate luxury score for each row\n",
    "luxury_score = (\n",
    "    features_binary_df[list(weights.keys())]\n",
    "    .multiply(list(weights.values()))\n",
    "    .sum(axis=1)\n",
    ")"
   ]
  },
  {
   "cell_type": "code",
   "execution_count": null,
   "metadata": {},
   "outputs": [],
   "source": [
    "df[\"luxury_score\"] = luxury_score"
   ]
  },
  {
   "cell_type": "code",
   "execution_count": null,
   "metadata": {},
   "outputs": [],
   "source": [
    "df.head(1)"
   ]
  },
  {
   "cell_type": "code",
   "execution_count": null,
   "metadata": {},
   "outputs": [],
   "source": [
    "# cols to drop -> nearbyLocations,furnishDetails, features,features_list, additionalRoom\n",
    "df.drop(\n",
    "    columns=[\n",
    "        \"nearbyLocations\",\n",
    "        \"furnishDetails\",\n",
    "        \"features\",\n",
    "        \"features_list\",\n",
    "        \"additionalRoom\",\n",
    "    ],\n",
    "    inplace=True,\n",
    ")"
   ]
  },
  {
   "cell_type": "code",
   "execution_count": null,
   "metadata": {},
   "outputs": [],
   "source": [
    "df.shape"
   ]
  },
  {
   "cell_type": "code",
   "execution_count": null,
   "metadata": {},
   "outputs": [],
   "source": [
    "df.to_csv(\"../Dataset/gurgaon_properties_cleaned_v2.csv\", index=False)"
   ]
  },
  {
   "cell_type": "code",
   "execution_count": null,
   "metadata": {},
   "outputs": [],
   "source": []
  }
 ],
 "metadata": {
  "kernelspec": {
   "display_name": "Python 3 (ipykernel)",
   "language": "python",
   "name": "python3"
  },
  "language_info": {
   "codemirror_mode": {
    "name": "ipython",
    "version": 3
   },
   "file_extension": ".py",
   "mimetype": "text/x-python",
   "name": "python",
   "nbconvert_exporter": "python",
   "pygments_lexer": "ipython3",
   "version": "3.12.3"
  }
 },
 "nbformat": 4,
 "nbformat_minor": 4
}
