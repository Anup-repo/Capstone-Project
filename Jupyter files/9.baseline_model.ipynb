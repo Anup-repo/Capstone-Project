{
 "cells": [
  {
   "cell_type": "code",
   "execution_count": null,
   "id": "463ab898-06ad-431b-8640-6214673bcd38",
   "metadata": {},
   "outputs": [],
   "source": [
    "import numpy as np\n",
    "import pandas as pd"
   ]
  },
  {
   "cell_type": "code",
   "execution_count": null,
   "id": "22408f37-3fb4-4dd8-b798-5d47a4c7328e",
   "metadata": {},
   "outputs": [],
   "source": [
    "df = pd.read_csv('../Dataset/gurgaon_properties_post_feature_selection.csv')"
   ]
  },
  {
   "cell_type": "code",
   "execution_count": null,
   "id": "401d3fe3-d619-4a9e-964a-1b583c079e41",
   "metadata": {},
   "outputs": [],
   "source": [
    "df"
   ]
  },
  {
   "cell_type": "markdown",
   "id": "3ff5e201-3000-4570-bf17-65e8b1e64bf9",
   "metadata": {},
   "source": [
    "Approach\n",
    "* first we will do One Hot Encoding since we are going use linear model and linear model calculate distance so we will standarize the column.\n",
    "* Price column is right skewed so we will use log thransformation on it"
   ]
  },
  {
   "cell_type": "code",
   "execution_count": null,
   "id": "8d1ed491-a269-4c18-a104-9fc37af4adf4",
   "metadata": {},
   "outputs": [],
   "source": [
    "# one hot encode -> sector, balcony, agePossession, furnishing type, luxury category, floor category"
   ]
  },
  {
   "cell_type": "code",
   "execution_count": null,
   "id": "f02bc382-9bf6-4508-9470-ec64951e4378",
   "metadata": {},
   "outputs": [],
   "source": [
    "X = df.drop(columns=['price'])\n",
    "y = df['price']"
   ]
  },
  {
   "cell_type": "code",
   "execution_count": null,
   "id": "a27cee07-95b2-4544-b7e4-f10b0612110c",
   "metadata": {},
   "outputs": [],
   "source": [
    "from sklearn.model_selection import KFold, cross_val_score\n",
    "from sklearn.linear_model import LinearRegression\n",
    "from sklearn.pipeline import Pipeline\n",
    "from sklearn.preprocessing import OneHotEncoder, StandardScaler\n",
    "from sklearn.compose import ColumnTransformer\n",
    "from sklearn.svm import SVR"
   ]
  },
  {
   "cell_type": "code",
   "execution_count": null,
   "id": "2ea2eeac-e56b-401f-b741-38554dfccc6b",
   "metadata": {},
   "outputs": [],
   "source": [
    "columns_to_encode = ['sector', 'balcony', 'agePossession', 'furnishing_type', 'luxury_category', 'floor_category']\n"
   ]
  },
  {
   "cell_type": "code",
   "execution_count": null,
   "id": "5dc76a01-acce-4108-9d87-ef807d0ec961",
   "metadata": {},
   "outputs": [],
   "source": [
    "# Applying the log1p transformation to the target variable\n",
    "y_transformed = np.log1p(y)"
   ]
  },
  {
   "cell_type": "code",
   "execution_count": null,
   "id": "9b5deb83-5a32-48d2-b6db-13da08513ff2",
   "metadata": {},
   "outputs": [],
   "source": [
    "# Creating a column transformer for preprocessing\n",
    "preprocessor = ColumnTransformer(\n",
    "    transformers=[\n",
    "        ('num', StandardScaler(), ['property_type', 'bedRoom', 'bathroom', 'built_up_area', 'servant room', 'store room']),\n",
    "        ('cat', OneHotEncoder(handle_unknown='ignore',drop='first'), columns_to_encode)\n",
    "    ], \n",
    "    remainder='passthrough'\n",
    ")"
   ]
  },
  {
   "cell_type": "code",
   "execution_count": null,
   "id": "036da08c-626e-4161-bfde-55f2d560e9a0",
   "metadata": {},
   "outputs": [],
   "source": [
    "# Creating a pipeline\n",
    "pipeline = Pipeline([\n",
    "    ('preprocessor', preprocessor),\n",
    "    ('regressor', LinearRegression())\n",
    "])"
   ]
  },
  {
   "cell_type": "code",
   "execution_count": null,
   "id": "d88c6d65-b6a2-41c3-ae7a-3182ec849748",
   "metadata": {},
   "outputs": [],
   "source": [
    "# K-fold cross-validation\n",
    "kfold = KFold(n_splits=10, shuffle=True, random_state=42)\n",
    "scores = cross_val_score(pipeline, X, y_transformed, cv=kfold, scoring='r2')"
   ]
  },
  {
   "cell_type": "code",
   "execution_count": null,
   "id": "da7f41e1-829b-40e4-b0e7-7612548db099",
   "metadata": {},
   "outputs": [],
   "source": [
    "scores.mean()"
   ]
  },
  {
   "cell_type": "code",
   "execution_count": null,
   "id": "f7288a61-35dd-40d1-a7b4-e9e645c7c6b6",
   "metadata": {},
   "outputs": [],
   "source": [
    "scores.std()"
   ]
  },
  {
   "cell_type": "code",
   "execution_count": null,
   "id": "4ba7bc1d-8d45-4d05-b1d1-6ec618ae87a0",
   "metadata": {},
   "outputs": [],
   "source": [
    "from sklearn.model_selection import train_test_split\n",
    "X_train, X_test, y_train, y_test = train_test_split(X,y_transformed,test_size=0.2,random_state=42)"
   ]
  },
  {
   "cell_type": "code",
   "execution_count": null,
   "id": "87680359-6039-475e-8375-03a1d4c9a717",
   "metadata": {},
   "outputs": [],
   "source": [
    "pipeline.fit(X_train,y_train)"
   ]
  },
  {
   "cell_type": "code",
   "execution_count": null,
   "id": "7aa73ed4-bf51-4c4d-b9fb-eee722356f7a",
   "metadata": {},
   "outputs": [],
   "source": [
    "y_pred = pipeline.predict(X_test)"
   ]
  },
  {
   "cell_type": "code",
   "execution_count": null,
   "id": "7b51b80f-445b-4b58-b674-b5132c5e6387",
   "metadata": {},
   "outputs": [],
   "source": [
    "y_pred = np.expm1(y_pred)"
   ]
  },
  {
   "cell_type": "code",
   "execution_count": null,
   "id": "b0d75552-c4cc-4dc1-b3cd-c3e1651aa7b7",
   "metadata": {},
   "outputs": [],
   "source": [
    "from sklearn.metrics import mean_absolute_error\n",
    "mean_absolute_error(np.expm1(y_test),y_pred)"
   ]
  },
  {
   "cell_type": "markdown",
   "id": "a2dc64e9-2c3d-45c8-91fd-c316cbb4e3b4",
   "metadata": {},
   "source": [
    "## 2nd pipeline"
   ]
  },
  {
   "cell_type": "code",
   "execution_count": null,
   "id": "04feba4a-9de6-4f9b-afc6-5f6f04ba9ae0",
   "metadata": {},
   "outputs": [],
   "source": [
    "# Creating a pipeline\n",
    "pipeline2 = Pipeline([\n",
    "    ('preprocessor', preprocessor),\n",
    "    ('regressor', SVR(kernel='rbf'))\n",
    "])"
   ]
  },
  {
   "cell_type": "code",
   "execution_count": null,
   "id": "e1796b2e-51c1-453a-b26b-567c593a4af5",
   "metadata": {},
   "outputs": [],
   "source": [
    "# K-fold cross-validation\n",
    "kfold = KFold(n_splits=10, shuffle=True, random_state=42)\n",
    "scores = cross_val_score(pipeline2, X, y_transformed, cv=kfold, scoring='r2')"
   ]
  },
  {
   "cell_type": "code",
   "execution_count": null,
   "id": "d5e7be90-6854-4597-af93-756c23cc4ec5",
   "metadata": {},
   "outputs": [],
   "source": [
    "scores.mean()"
   ]
  },
  {
   "cell_type": "code",
   "execution_count": null,
   "id": "5b718eb6-6091-4abd-9060-f6450d1dbcea",
   "metadata": {},
   "outputs": [],
   "source": [
    "scores.std()"
   ]
  },
  {
   "cell_type": "code",
   "execution_count": null,
   "id": "43519713-be35-4890-83c9-38d12db21dbb",
   "metadata": {},
   "outputs": [],
   "source": [
    "X_train, X_test, y_train, y_test = train_test_split(X,y_transformed,test_size=0.2,random_state=42)\n",
    "pipeline2.fit(X_train,y_train)"
   ]
  },
  {
   "cell_type": "code",
   "execution_count": null,
   "id": "d66a099b-d6b9-4b62-a070-d32f4b7d8fff",
   "metadata": {},
   "outputs": [],
   "source": [
    "y_pred = pipeline2.predict(X_test)\n",
    "y_pred = np.expm1(y_pred)\n",
    "mean_absolute_error(np.expm1(y_test),y_pred)"
   ]
  },
  {
   "cell_type": "code",
   "execution_count": null,
   "id": "41534a05-9da9-44cc-bc54-f19b99816ca4",
   "metadata": {},
   "outputs": [],
   "source": []
  }
 ],
 "metadata": {
  "kernelspec": {
   "display_name": "Python 3 (ipykernel)",
   "language": "python",
   "name": "python3"
  },
  "language_info": {
   "codemirror_mode": {
    "name": "ipython",
    "version": 3
   },
   "file_extension": ".py",
   "mimetype": "text/x-python",
   "name": "python",
   "nbconvert_exporter": "python",
   "pygments_lexer": "ipython3",
   "version": "3.12.3"
  }
 },
 "nbformat": 4,
 "nbformat_minor": 5
}
